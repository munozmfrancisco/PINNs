{
 "cells": [
  {
   "cell_type": "markdown",
   "id": "c0e164bc",
   "metadata": {},
   "source": [
    "# Heat Equation in 1D (Inverse Problem)\n",
    "\n",
    "We will solve a heat equation in 1D:\n",
    "\n",
    "$$\n",
    "\\frac{\\partial u}{\\partial t} = \\alpha \\frac{\\partial^2 u}{\\partial x^2}, \\qquad \\text{where} \\quad x  \\in [0,1],  \\quad t \\in [0,1],\n",
    "$$\n",
    "\n",
    "where $\\alpha$ is estimated using the exact solution.\n",
    "\n",
    "The Dirichlet boundary conditions:\n",
    "\n",
    "$$\n",
    "u(0, t) = u(1,t) = 0\n",
    "$$\n",
    "\n",
    "and periodic initial condition:\n",
    "\n",
    "$$\n",
    "u(x,0) = sin(\\frac{\\pi x}{L}), \n",
    "$$\n",
    "\n",
    "where $L = 1$  is the length of the bar.\n",
    "\n",
    "The exact solution is $u(x,t) = e^{\\frac{-\\pi^2 \\alpha t}{L^2}}sin(\\frac{\\pi x}{L})$."
   ]
  },
  {
   "cell_type": "markdown",
   "id": "291a3c07",
   "metadata": {},
   "source": [
    "## Implementation and Training\n",
    "\n",
    "First, we import the libraries:"
   ]
  },
  {
   "cell_type": "code",
   "execution_count": 36,
   "id": "d8790467",
   "metadata": {},
   "outputs": [],
   "source": [
    "import torch\n",
    "import torch.nn as nn\n",
    "import numpy as np\n",
    "import matplotlib.pyplot as plt\n",
    "from matplotlib import animation\n",
    "from matplotlib.animation import PillowWriter\n",
    "import datetime\n",
    "import math"
   ]
  },
  {
   "cell_type": "markdown",
   "id": "74036062",
   "metadata": {},
   "source": [
    "We define the $sine$ and $euler$ functions and the values of $\\pi, \\alpha$ and $L$"
   ]
  },
  {
   "cell_type": "code",
   "execution_count": 37,
   "id": "0aaaf432",
   "metadata": {},
   "outputs": [],
   "source": [
    "sin = torch.sin\n",
    "e = torch.exp\n",
    "pi = math.pi\n",
    "L = 1\n",
    "alpha = 0.4"
   ]
  },
  {
   "cell_type": "markdown",
   "id": "959a3c76",
   "metadata": {},
   "source": [
    "and define the exact solution function."
   ]
  },
  {
   "cell_type": "code",
   "execution_count": 38,
   "id": "463d9191",
   "metadata": {},
   "outputs": [],
   "source": [
    "def sol(x, t):\n",
    "    return e(-(pi**2)*alpha*t/(L**2))*sin(pi*x/L)"
   ]
  },
  {
   "cell_type": "markdown",
   "id": "9c339ea8",
   "metadata": {},
   "source": [
    "Now, we set the parameters of the neural network: it has a structure with 2 inputs ($x, t$) and 1 output ($u(x,t)$), 15000 maximum training steps, 3 hidden layers with 32 neurons each, 100 samples and a target minimum loss value of $10^{-4}$."
   ]
  },
  {
   "cell_type": "code",
   "execution_count": 39,
   "id": "f7652890",
   "metadata": {},
   "outputs": [],
   "source": [
    "inputs = 2\n",
    "outputs = 1\n",
    "hn_1 = 32\n",
    "hn_2 = 32\n",
    "hn_3 = 32\n",
    "steps = 0\n",
    "max_steps = 10000\n",
    "loss = 10\n",
    "min_loss = 1e-5\n",
    "log_each = 500\n",
    "samples = 100\n",
    "loss_values = []"
   ]
  },
  {
   "cell_type": "markdown",
   "id": "4ef4cdf6",
   "metadata": {},
   "source": [
    "In this part, we define a new class implementing the activation function $sin(x)$, due to the oscillatory nature of the solution."
   ]
  },
  {
   "cell_type": "code",
   "execution_count": 40,
   "id": "edb35cb8",
   "metadata": {},
   "outputs": [],
   "source": [
    "class Sine(nn.Module):\n",
    "    def __init__(self):\n",
    "        super().__init__()\n",
    "    def forward(self, x):\n",
    "        return torch.sin(x)"
   ]
  },
  {
   "cell_type": "markdown",
   "id": "22ca696c",
   "metadata": {},
   "source": [
    "To solve the inverse problem, we introduce a parameter that estimates the value of $\\alpha$."
   ]
  },
  {
   "cell_type": "code",
   "execution_count": 41,
   "id": "8fcce798",
   "metadata": {},
   "outputs": [],
   "source": [
    "ALPHA = nn.Parameter(torch.tensor(1.0, requires_grad=True))"
   ]
  },
  {
   "cell_type": "markdown",
   "id": "d351416b",
   "metadata": {},
   "source": [
    "The multilayer perceptron (MLP) structure is:"
   ]
  },
  {
   "cell_type": "code",
   "execution_count": 42,
   "id": "ff9a96aa",
   "metadata": {},
   "outputs": [
    {
     "data": {
      "text/plain": [
       "Sequential(\n",
       "  (0): Linear(in_features=2, out_features=32, bias=True)\n",
       "  (1): Sine()\n",
       "  (2): Linear(in_features=32, out_features=32, bias=True)\n",
       "  (3): Sine()\n",
       "  (4): Linear(in_features=32, out_features=32, bias=True)\n",
       "  (5): Sine()\n",
       "  (6): Linear(in_features=32, out_features=1, bias=True)\n",
       ")"
      ]
     },
     "execution_count": 42,
     "metadata": {},
     "output_type": "execute_result"
    }
   ],
   "source": [
    "mlp = nn.Sequential(\n",
    "    nn.Linear(inputs,hn_1),\n",
    "    Sine(),\n",
    "    nn.Linear(hn_1, hn_2),\n",
    "    Sine(),\n",
    "    nn.Linear(hn_3, hn_3),\n",
    "    Sine(),\n",
    "    nn.Linear(hn_3, outputs)\n",
    ")\n",
    "\n",
    "optimizer = torch.optim.Adam(list(mlp.parameters()) + [ALPHA])\n",
    "criterion = nn.MSELoss()\n",
    "mlp.train()"
   ]
  },
  {
   "cell_type": "markdown",
   "id": "6e009867",
   "metadata": {},
   "source": [
    "In this section, we define a function that calculates the gradients."
   ]
  },
  {
   "cell_type": "code",
   "execution_count": 43,
   "id": "0ca8952e",
   "metadata": {},
   "outputs": [],
   "source": [
    "def computeGrads(y, x):\n",
    "    grads, = torch.autograd.grad(y, x, grad_outputs=y.data.new(y.shape).fill_(1), create_graph=True, only_inputs=True)\n",
    "    return grads"
   ]
  },
  {
   "cell_type": "markdown",
   "id": "9501f1fc",
   "metadata": {},
   "source": [
    "Next, we define the main training loop and the timer. We use the exact solution in the test domain to calculate the data loss."
   ]
  },
  {
   "cell_type": "code",
   "execution_count": 44,
   "id": "457b5ba3",
   "metadata": {},
   "outputs": [
    {
     "name": "stdout",
     "output_type": "stream",
     "text": [
      "----Training Started----\n",
      "Step:0| pde_loss 0.00290 ic_loss 0.63493 bc_loss 0.00041 data_loss 0.10335\n",
      "Step:500| pde_loss 0.01317 ic_loss 0.04328 bc_loss 0.03142 data_loss 0.00441\n",
      "Step:1000| pde_loss 0.00235 ic_loss 0.00160 bc_loss 0.00232 data_loss 0.00097\n",
      "Step:1500| pde_loss 0.00106 ic_loss 0.00060 bc_loss 0.00095 data_loss 0.00069\n",
      "Step:2000| pde_loss 0.00079 ic_loss 0.00037 bc_loss 0.00050 data_loss 0.00036\n",
      "Step:2500| pde_loss 0.00055 ic_loss 0.00016 bc_loss 0.00030 data_loss 0.00011\n",
      "Step:3000| pde_loss 0.00047 ic_loss 0.00005 bc_loss 0.00014 data_loss 0.00007\n",
      "Step:3500| pde_loss 0.00022 ic_loss 0.00003 bc_loss 0.00005 data_loss 0.00007\n",
      "Step:4000| pde_loss 0.00025 ic_loss 0.00002 bc_loss 0.00003 data_loss 0.00004\n",
      "Step:4500| pde_loss 0.00007 ic_loss 0.00002 bc_loss 0.00001 data_loss 0.00002\n",
      "Step:5000| pde_loss 0.00017 ic_loss 0.00002 bc_loss 0.00002 data_loss 0.00001\n",
      "Step:5500| pde_loss 0.00008 ic_loss 0.00000 bc_loss 0.00001 data_loss 0.00000\n",
      "Step:6000| pde_loss 0.00013 ic_loss 0.00001 bc_loss 0.00006 data_loss 0.00003\n",
      "Step:6500| pde_loss 0.00010 ic_loss 0.00003 bc_loss 0.00004 data_loss 0.00002\n",
      "Step:7000| pde_loss 0.00010 ic_loss 0.00001 bc_loss 0.00001 data_loss 0.00001\n",
      "Step:7500| pde_loss 0.00003 ic_loss 0.00000 bc_loss 0.00002 data_loss 0.00000\n",
      "Step:8000| pde_loss 0.00009 ic_loss 0.00002 bc_loss 0.00004 data_loss 0.00002\n",
      "Step:8500| pde_loss 0.00006 ic_loss 0.00013 bc_loss 0.00012 data_loss 0.00009\n",
      "Step:9000| pde_loss 0.00004 ic_loss 0.00000 bc_loss 0.00001 data_loss 0.00001\n",
      "---Training Finished---\n",
      "Training Duration: 9304 steps in 27.028 seconds\n"
     ]
    }
   ],
   "source": [
    "starttime_train = datetime.datetime.now()\n",
    "print('----Training Started----')\n",
    "\n",
    "while steps < max_steps and loss > min_loss:\n",
    "    x = torch.rand(samples)\n",
    "    t = torch.rand(samples)\n",
    "    X = torch.stack([x, t], axis=-1)\n",
    "    X.requires_grad = True\n",
    "    Y = mlp(X)\n",
    "    grads = computeGrads(Y, X)\n",
    "    dudx = grads[:, :1]\n",
    "    dudt = grads[:, 1:]\n",
    "    grads2 = computeGrads(dudx, X)\n",
    "    d2udx2 = grads2[:, :1]\n",
    "    pde_loss = criterion(dudt, ALPHA*d2udx2)\n",
    "\n",
    "    #initial condition\n",
    "    t0 = torch.zeros(samples)\n",
    "    X_initial = torch.stack([x, t0], axis=-1)\n",
    "    Y_initial = mlp(X_initial)\n",
    "    u_initial = sin(pi*x/L).unsqueeze(1)\n",
    "    ic_loss = criterion(Y_initial, u_initial)\n",
    "\n",
    "    #boundary conditions x=0\n",
    "    x0 = torch.zeros(samples)\n",
    "    X_boundary0 = torch.stack([x0, t], axis=-1)\n",
    "    Y_boundary0 = mlp(X_boundary0)\n",
    "    zero = torch.zeros(samples, 1)\n",
    "    bc0_loss = criterion(Y_boundary0, zero)\n",
    "    \n",
    "    #boundary conditions x=1\n",
    "    x1 = torch.ones(samples)\n",
    "    X_boundary1 = torch.stack([x1, t], axis=-1)\n",
    "    Y_boundary1 = mlp(X_boundary1)\n",
    "    bc1_loss = criterion(Y_boundary1, zero)\n",
    "\n",
    "    bc_loss = bc0_loss + bc1_loss\n",
    "\n",
    "    #data\n",
    "    data_loss = criterion(Y, sol(x,t).unsqueeze(1))\n",
    "\n",
    "    optimizer.zero_grad()\n",
    "    loss = pde_loss + ic_loss  + bc_loss + data_loss\n",
    "    loss.backward()\n",
    "    optimizer.step()\n",
    "\n",
    "    loss_values.append(loss.detach().numpy())\n",
    "\n",
    "    if steps % log_each == 0:\n",
    "        print(f'Step:{steps}| pde_loss {pde_loss.item():.5f} ic_loss {ic_loss.item():.5f} bc_loss {bc_loss.item():.5f} data_loss {data_loss.item():.5f}')\n",
    "\n",
    "    steps+=1\n",
    "\n",
    "endtime_train = datetime.datetime.now()\n",
    "train_time = endtime_train - starttime_train\n",
    "train_time_formatted = train_time.seconds + train_time.microseconds / 1e6\n",
    "print('---Training Finished---')\n",
    "\n",
    "print(f'Training Duration: {steps} steps in {train_time_formatted:.3f} seconds')"
   ]
  },
  {
   "cell_type": "markdown",
   "id": "eb2dc71f",
   "metadata": {},
   "source": [
    "## Visualization"
   ]
  },
  {
   "cell_type": "markdown",
   "id": "7d29d884",
   "metadata": {},
   "source": [
    "First, we display the value of $\\alpha$ estimated by the PINN."
   ]
  },
  {
   "cell_type": "code",
   "execution_count": 45,
   "id": "d33adddf",
   "metadata": {},
   "outputs": [
    {
     "name": "stdout",
     "output_type": "stream",
     "text": [
      "ALPHA=Parameter containing:\n",
      "tensor(0.3987, requires_grad=True)\n"
     ]
    }
   ],
   "source": [
    "print(f'{ALPHA=}')"
   ]
  },
  {
   "cell_type": "markdown",
   "id": "df3a5301",
   "metadata": {},
   "source": [
    "To visualize the model solution, we generate the output of the trained model and display it as a GIF alongside the exact solution."
   ]
  },
  {
   "cell_type": "code",
   "execution_count": null,
   "id": "870e77f8",
   "metadata": {},
   "outputs": [],
   "source": [
    "x = torch.linspace(0, 1, samples)\n",
    "t = torch.linspace(0, 1, samples)\n",
    "\n",
    "u = [] \n",
    "ref_sol = []\n",
    "time = []\n",
    "\n",
    "for t_ in t:\n",
    "    with torch.no_grad():\n",
    "        X = torch.stack([x, torch.ones(samples)*t_], axis=-1)\n",
    "        Y = mlp(X)\n",
    "    u.append(Y.detach().numpy())\n",
    "    ref_sol.append(sol(x, t_))\n",
    "    time.append(t_)\n",
    "\n",
    "def update(i):\n",
    "    ax.clear()\n",
    "    ax.plot(x, u[i], '.-', label = fr'PINN ($ \\alpha = {ALPHA.detach().numpy().item():.5f} $)')\n",
    "    ax.plot(x, ref_sol[i], '-', label = fr'Exact ($ \\alpha = {alpha} $)')\n",
    "    ax.set_xlabel('$x$')\n",
    "    ax.set_ylabel('$u(x,t)$')\n",
    "    ax.set_title(f'$t = {time[i]:.3f}$')\n",
    "    ax.set_ylim(-0.1, 1.1)\n",
    "    ax.grid(True)\n",
    "    ax.legend()\n",
    "    return ax\n",
    "\n",
    "fig = plt.figure(dpi=100)\n",
    "ax = plt.subplot(1,1,1)\n",
    "anim = animation.FuncAnimation(fig, update, frames=len(u), interval=200)\n",
    "# anim.save('heat_inverse.gif', dpi=300, writer=PillowWriter(fps=25))\n",
    "plt.close(fig)"
   ]
  },
  {
   "cell_type": "markdown",
   "id": "d0a24f31",
   "metadata": {},
   "source": [
    "[Animation](https://github.com/munozmfrancisco/PINNs/raw/main/GIFs/Inverse/heat_inverse.gif)"
   ]
  }
 ],
 "metadata": {
  "kernelspec": {
   "display_name": "Python 3",
   "language": "python",
   "name": "python3"
  },
  "language_info": {
   "codemirror_mode": {
    "name": "ipython",
    "version": 3
   },
   "file_extension": ".py",
   "mimetype": "text/x-python",
   "name": "python",
   "nbconvert_exporter": "python",
   "pygments_lexer": "ipython3",
   "version": "3.10.1"
  }
 },
 "nbformat": 4,
 "nbformat_minor": 5
}
