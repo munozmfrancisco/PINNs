{
 "cells": [
  {
   "cell_type": "markdown",
   "id": "c0e164bc",
   "metadata": {},
   "source": [
    "# Shallow Waters Equations in 1D\n",
    "\n",
    "We will solve a shallow waters equations system in 1D:\n",
    "\n",
    "\\begin{align}\n",
    "\n",
    "\\frac{\\partial h}{\\partial  t}+ \\frac{\\partial h u}{\\partial  x} = 0,\\\\\n",
    "\n",
    "\\frac{\\partial h u}{\\partial  t}\n",
    "  +\\frac{\\partial }{\\partial  x}\\left(hu^2 +\\frac{1}{2}gh^2\\right) = 0,\n",
    "\n",
    "\\end{align}\n",
    "\n",
    "where $x \\in [-5, 5], \\quad t \\in [0, 3]$\n",
    "\n",
    "and considering $g=1$.\n",
    "\n",
    "The initial conditions:\n",
    "\n",
    "$$\n",
    "h(x, 0) = 1 + \\frac{2}{5}e^{-5x^2}, \\quad u(x, 0) = 0\n",
    "$$\n",
    "\n",
    "and boundary conditions:\n",
    "\n",
    "$$\n",
    "h(-5, t) = h(5, t) = 1, \\quad u(-5, t) = u(5, t) = 0.\n",
    "$$\n",
    "\n",
    "The reference solution is computed by finite differences *here*."
   ]
  },
  {
   "cell_type": "markdown",
   "id": "291a3c07",
   "metadata": {},
   "source": [
    "## Implementation and Training\n",
    "\n",
    "First, we import the libraries:"
   ]
  },
  {
   "cell_type": "code",
   "execution_count": 1,
   "id": "d8790467",
   "metadata": {},
   "outputs": [],
   "source": [
    "import torch\n",
    "import torch.nn as nn\n",
    "import numpy as np\n",
    "import matplotlib.pyplot as plt\n",
    "from matplotlib import animation\n",
    "from matplotlib.animation import PillowWriter\n",
    "import datetime\n",
    "import math"
   ]
  },
  {
   "cell_type": "markdown",
   "id": "74036062",
   "metadata": {},
   "source": [
    "We set the parameter $g$ and define the $sine$ function, along with the maximum and minimum values of the domain:"
   ]
  },
  {
   "cell_type": "code",
   "execution_count": 2,
   "id": "0aaaf432",
   "metadata": {},
   "outputs": [],
   "source": [
    "e = torch.exp\n",
    "g = 1.\n",
    "\n",
    "x_min = -5.\n",
    "x_max = 5.\n",
    "\n",
    "t_max = 3."
   ]
  },
  {
   "cell_type": "markdown",
   "id": "9c339ea8",
   "metadata": {},
   "source": [
    "Now, we set the parameters of the neural network: it has a structure with 2 inputs ($x, t$) and 2 outputs ($h(x,t), u(x,t)$), 10000 maximum training steps, 3 hidden layers with 32 neurons each, 100 samples and a target minimum loss value of $10^{-4}$."
   ]
  },
  {
   "cell_type": "code",
   "execution_count": 3,
   "id": "f7652890",
   "metadata": {},
   "outputs": [],
   "source": [
    "inputs = 2\n",
    "outputs = 2\n",
    "hn_1 = 32\n",
    "hn_2 = 32\n",
    "hn_3 = 32\n",
    "steps = 0\n",
    "max_steps = 10000\n",
    "loss = 10\n",
    "min_loss = 1e-4\n",
    "log_each = 500\n",
    "samples = 100\n",
    "loss_values = []"
   ]
  },
  {
   "cell_type": "markdown",
   "id": "4ef4cdf6",
   "metadata": {},
   "source": [
    "In this part, we define a new class implementing the activation function $sin(x)$, due to the oscillatory nature of the solution."
   ]
  },
  {
   "cell_type": "code",
   "execution_count": 4,
   "id": "edb35cb8",
   "metadata": {},
   "outputs": [],
   "source": [
    "class Sine(nn.Module):\n",
    "    def __init__(self):\n",
    "        super().__init__()\n",
    "    def forward(self, x):\n",
    "        return torch.sin(x)"
   ]
  },
  {
   "cell_type": "markdown",
   "id": "d351416b",
   "metadata": {},
   "source": [
    "The multilayer perceptron (MLP) structure is:"
   ]
  },
  {
   "cell_type": "code",
   "execution_count": 5,
   "id": "ff9a96aa",
   "metadata": {},
   "outputs": [
    {
     "data": {
      "text/plain": [
       "Sequential(\n",
       "  (0): Linear(in_features=2, out_features=32, bias=True)\n",
       "  (1): Sine()\n",
       "  (2): Linear(in_features=32, out_features=32, bias=True)\n",
       "  (3): Sine()\n",
       "  (4): Linear(in_features=32, out_features=32, bias=True)\n",
       "  (5): Sine()\n",
       "  (6): Linear(in_features=32, out_features=2, bias=True)\n",
       ")"
      ]
     },
     "execution_count": 5,
     "metadata": {},
     "output_type": "execute_result"
    }
   ],
   "source": [
    "mlp = nn.Sequential(\n",
    "    nn.Linear(inputs,hn_1),\n",
    "    Sine(),\n",
    "    nn.Linear(hn_1, hn_2),\n",
    "    Sine(),\n",
    "    nn.Linear(hn_2, hn_3),\n",
    "    Sine(),\n",
    "    nn.Linear(hn_3, outputs)\n",
    ")\n",
    "\n",
    "optimizer = torch.optim.Adam(mlp.parameters())\n",
    "criterion = nn.MSELoss()\n",
    "mlp.train()"
   ]
  },
  {
   "cell_type": "markdown",
   "id": "6e009867",
   "metadata": {},
   "source": [
    "In this section, we define a function that calculates the gradients."
   ]
  },
  {
   "cell_type": "code",
   "execution_count": 6,
   "id": "0ca8952e",
   "metadata": {},
   "outputs": [],
   "source": [
    "def computeGrads(y, x):\n",
    "    grads, = torch.autograd.grad(y, x, grad_outputs=y.data.new(y.shape).fill_(1), create_graph=True, only_inputs=True)\n",
    "    return grads"
   ]
  },
  {
   "cell_type": "markdown",
   "id": "9501f1fc",
   "metadata": {},
   "source": [
    "Next, we define the main training loop and the timer:"
   ]
  },
  {
   "cell_type": "code",
   "execution_count": 7,
   "id": "457b5ba3",
   "metadata": {},
   "outputs": [
    {
     "name": "stdout",
     "output_type": "stream",
     "text": [
      "----Training Started----\n",
      "Step:0| pde_loss 0.00212 ic_loss 0.82489 bc_loss 1.16497\n",
      "Step:500| pde_loss 0.00063 ic_loss 0.00643 bc_loss 0.00004\n",
      "Step:1000| pde_loss 0.00045 ic_loss 0.00259 bc_loss 0.00004\n",
      "Step:1500| pde_loss 0.00044 ic_loss 0.00411 bc_loss 0.00003\n",
      "Step:2000| pde_loss 0.00031 ic_loss 0.00166 bc_loss 0.00002\n",
      "Step:2500| pde_loss 0.00062 ic_loss 0.00202 bc_loss 0.00004\n",
      "Step:3000| pde_loss 0.00061 ic_loss 0.00062 bc_loss 0.00003\n",
      "Step:3500| pde_loss 0.00048 ic_loss 0.00037 bc_loss 0.00003\n",
      "Step:4000| pde_loss 0.00029 ic_loss 0.00025 bc_loss 0.00002\n",
      "Step:4500| pde_loss 0.00018 ic_loss 0.00010 bc_loss 0.00002\n",
      "Step:5000| pde_loss 0.00022 ic_loss 0.00008 bc_loss 0.00002\n",
      "Step:5500| pde_loss 0.00014 ic_loss 0.00005 bc_loss 0.00002\n",
      "Step:6000| pde_loss 0.00016 ic_loss 0.00006 bc_loss 0.00001\n",
      "Step:6500| pde_loss 0.00021 ic_loss 0.00005 bc_loss 0.00002\n",
      "Step:7000| pde_loss 0.00014 ic_loss 0.00003 bc_loss 0.00001\n",
      "Step:7500| pde_loss 0.00011 ic_loss 0.00006 bc_loss 0.00003\n",
      "Step:8000| pde_loss 0.00023 ic_loss 0.00004 bc_loss 0.00001\n",
      "---Training Finished---\n",
      "Training Duration: 8002 steps in 25.175 seconds\n"
     ]
    }
   ],
   "source": [
    "starttime_train = datetime.datetime.now()\n",
    "print('----Training Started----')\n",
    "\n",
    "while steps < max_steps and loss > min_loss:\n",
    "    x = (x_max - x_min)*torch.rand(samples) + x_min\n",
    "    t = (t_max - 0)*torch.rand(samples)\n",
    "    X = torch.stack([x, t], axis=-1)\n",
    "    X.requires_grad = True\n",
    "    Y = mlp(X)\n",
    "    h, u = Y[:, :1], Y[:, 1:] \n",
    "    grads_h = computeGrads(h, X)\n",
    "    dhdx = grads_h[:, :1]\n",
    "    dhdt = grads_h[:, 1:]\n",
    "    grads_u = computeGrads(u, X)\n",
    "    dudx = grads_u[:, :1]\n",
    "    dudt = grads_u[:, 1:]\n",
    "    pde_loss = criterion(dhdt, -h*dudx -u*dhdx)  + \\\n",
    "            criterion(h*dudt + u*dhdt, -2*h*u*dudx - (u**2)*dhdx - g*h*dhdx)\n",
    "\n",
    "    #initial conditions\n",
    "    t0 = torch.zeros(samples)\n",
    "    X_initial = torch.stack([x, t0], axis=-1)\n",
    "    Y_initial = mlp(X_initial)\n",
    "    h, u = Y_initial[:, :1], Y_initial[:, 1:]\n",
    "    h0 = (1 + 2*e(-5*(x**2))/5).unsqueeze(1)\n",
    "    zero = torch.zeros(samples, 1)\n",
    "    ic_loss_h = criterion(h, h0)\n",
    "    ic_loss_u = criterion(u, zero)\n",
    "\n",
    "    ic_loss = ic_loss_h + ic_loss_u\n",
    "\n",
    "    #boundary conditions x=-5\n",
    "    x_5 = -5*torch.ones(samples)\n",
    "    X_boundary_5 = torch.stack([x_5, t], axis=-1)\n",
    "    Y_boundary_5 = mlp(X_boundary_5)\n",
    "    h_5, u_5 = Y_boundary_5[:, :1], Y_boundary_5[:, 1:]\n",
    "    one =  torch.ones(samples, 1)\n",
    "    bc_5_loss_h = criterion(h_5, one)\n",
    "    bc_5_loss_u = criterion(u_5, zero)\n",
    "\n",
    "    bc_5_loss = bc_5_loss_h + bc_5_loss_u\n",
    "    \n",
    "    #boundary conditions x=5\n",
    "    x5 = 5*torch.ones(samples)\n",
    "    X_boundary5 = torch.stack([x5, t], axis=-1)\n",
    "    Y_boundary5 = mlp(X_boundary5)\n",
    "    h5, u5 = Y_boundary5[:, :1], Y_boundary5[:, 1:]\n",
    "    bc5_loss_h = criterion(h5, one)\n",
    "    bc5_loss_u = criterion(u5, zero)\n",
    "\n",
    "    bc5_loss = bc5_loss_h + bc5_loss_u\n",
    "\n",
    "    bc_loss = bc_5_loss + bc5_loss\n",
    "\n",
    "    optimizer.zero_grad()\n",
    "    loss = pde_loss + ic_loss  + bc_loss\n",
    "    loss.backward()\n",
    "    optimizer.step()\n",
    "\n",
    "    loss_values.append(loss.detach().numpy())\n",
    "\n",
    "    if steps % log_each == 0:\n",
    "        print(f'Step:{steps}| pde_loss {pde_loss.item():.5f} ic_loss {ic_loss.item():.5f} bc_loss {bc_loss.item():.5f}')\n",
    "\n",
    "    steps+=1\n",
    "\n",
    "endtime_train = datetime.datetime.now()\n",
    "train_time = endtime_train - starttime_train\n",
    "train_time_formatted = train_time.seconds + train_time.microseconds / 1e6\n",
    "print('---Training Finished---')\n",
    "\n",
    "print(f'Training Duration: {steps} steps in {train_time_formatted:.3f} seconds')"
   ]
  },
  {
   "cell_type": "markdown",
   "id": "eb2dc71f",
   "metadata": {},
   "source": [
    "## Visualization\n",
    "\n",
    "To visualize the model solution, we generate the output of the trained model and display it as a GIF alongside the reference solution."
   ]
  },
  {
   "cell_type": "code",
   "execution_count": 8,
   "id": "870e77f8",
   "metadata": {},
   "outputs": [],
   "source": [
    "x = torch.linspace(x_min, x_max, samples)\n",
    "t = torch.linspace(0, t_max, samples)\n",
    "\n",
    "h = [] \n",
    "u = []\n",
    "time = []\n",
    "\n",
    "for t_ in t:\n",
    "    with torch.no_grad():\n",
    "        X = torch.stack([x, torch.ones(samples)*t_], axis=-1)\n",
    "        Y = mlp(X) \n",
    "    h.append(Y[:, :1].detach().numpy())\n",
    "    u.append(Y[:, 1:].detach().numpy())\n",
    "    time.append(t_)\n",
    "\n",
    "def update(i):\n",
    "    ax.clear()\n",
    "    ax.plot(x, h[i], '.-', label = '$h(x,t)$')\n",
    "    ax.plot(x, h[i]*u[i], '-', label = '$hu$')\n",
    "    ax.set_xlabel('$x$')\n",
    "    ax.set_title(f'$t = {time[i]:.3f}$')\n",
    "    ax.set_ylim(-0.3, 1.5)\n",
    "    ax.grid(True)\n",
    "    ax.legend()\n",
    "    return ax\n",
    "\n",
    "fig = plt.figure(dpi=100)\n",
    "ax = plt.subplot(1,1,1)\n",
    "anim = animation.FuncAnimation(fig, update, frames=len(h), interval=200)\n",
    "# anim.save('shallow_waters.gif', dpi=300, writer=PillowWriter(fps=25))\n",
    "plt.close(fig)"
   ]
  },
  {
   "cell_type": "markdown",
   "id": "d0a24f31",
   "metadata": {},
   "source": [
    "[Animation](https://github.com/munozmfrancisco/PINNs/raw/main/GIFs/Forward/shallow_waters.gif)"
   ]
  }
 ],
 "metadata": {
  "kernelspec": {
   "display_name": "Python 3",
   "language": "python",
   "name": "python3"
  },
  "language_info": {
   "codemirror_mode": {
    "name": "ipython",
    "version": 3
   },
   "file_extension": ".py",
   "mimetype": "text/x-python",
   "name": "python",
   "nbconvert_exporter": "python",
   "pygments_lexer": "ipython3",
   "version": "3.10.1"
  }
 },
 "nbformat": 4,
 "nbformat_minor": 5
}
