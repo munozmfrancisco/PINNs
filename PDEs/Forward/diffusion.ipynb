{
 "cells": [
  {
   "cell_type": "markdown",
   "id": "c0e164bc",
   "metadata": {},
   "source": [
    "# Diffusion Equation in 1D\n",
    "\n",
    "We will solve a diffusion equation in 1D:\n",
    "\n",
    "$$\n",
    "\\frac{\\partial y}{\\partial t} = \\frac{\\partial^2 y}{\\partial x^2} -e^{-t}(sin(\\pi x) - \\pi^2 sin(\\pi x)), \\qquad \\text{where} \\quad x  \\in [-1,1],  \\quad t \\in [0,1],\n",
    "$$\n",
    "\n",
    "with the Dirichlet boundary conditions and the initial condition:\n",
    "\n",
    "$$\n",
    "y(-1, t) = y(1,t) = 0, \\qquad  y(x,0) = sin(\\pi x).\n",
    "$$\n",
    "\n",
    "The reference solution is $y = e^{-t}sin(\\pi x)$."
   ]
  },
  {
   "cell_type": "markdown",
   "id": "291a3c07",
   "metadata": {},
   "source": [
    "## Implementation and Training\n",
    "\n",
    "First, we import the libraries:"
   ]
  },
  {
   "cell_type": "code",
   "execution_count": 150,
   "id": "d8790467",
   "metadata": {},
   "outputs": [],
   "source": [
    "import torch\n",
    "import torch.nn as nn\n",
    "import numpy as np\n",
    "import matplotlib.pyplot as plt\n",
    "from matplotlib import animation\n",
    "from matplotlib.animation import PillowWriter\n",
    "import datetime\n",
    "import math"
   ]
  },
  {
   "cell_type": "markdown",
   "id": "74036062",
   "metadata": {},
   "source": [
    "We define the $sine$ and $euler$ functions and the maximum and minimum values of the x domain:"
   ]
  },
  {
   "cell_type": "code",
   "execution_count": 142,
   "id": "0aaaf432",
   "metadata": {},
   "outputs": [],
   "source": [
    "sin = torch.sin\n",
    "e = torch.exp\n",
    "pi = math.pi\n",
    "\n",
    "x_min = -1.\n",
    "x_max = 1."
   ]
  },
  {
   "cell_type": "markdown",
   "id": "9c339ea8",
   "metadata": {},
   "source": [
    "Now, we set the parameters of the neural network: it has a structure with 2 input ($x, t$) and 1 output ($y(x,t)$), 15000 maximum training steps, 3 hidden layers with 32 neurons each, 100 samples and a target minimum loss value of $10^{-4}$."
   ]
  },
  {
   "cell_type": "code",
   "execution_count": 143,
   "id": "f7652890",
   "metadata": {},
   "outputs": [],
   "source": [
    "inputs = 2\n",
    "outputs = 1\n",
    "hn_1 = 32\n",
    "hn_2 = 32\n",
    "hn_3 = 32\n",
    "steps = 0\n",
    "max_steps = 15000\n",
    "loss = 10\n",
    "min_loss = 1e-4\n",
    "log_each = 500\n",
    "samples = 100\n",
    "loss_values = []"
   ]
  },
  {
   "cell_type": "markdown",
   "id": "4ef4cdf6",
   "metadata": {},
   "source": [
    "In this part, we define a new class implementing the activation function $sin(x)$, due to the oscillatory nature of the solution."
   ]
  },
  {
   "cell_type": "code",
   "execution_count": 144,
   "id": "edb35cb8",
   "metadata": {},
   "outputs": [],
   "source": [
    "class Sine(nn.Module):\n",
    "    def __init__(self):\n",
    "        super().__init__()\n",
    "    def forward(self, x):\n",
    "        return torch.sin(x)"
   ]
  },
  {
   "cell_type": "markdown",
   "id": "d351416b",
   "metadata": {},
   "source": [
    "The multilayer perceptron (MLP) structure is:"
   ]
  },
  {
   "cell_type": "code",
   "execution_count": 145,
   "id": "ff9a96aa",
   "metadata": {},
   "outputs": [
    {
     "data": {
      "text/plain": [
       "Sequential(\n",
       "  (0): Linear(in_features=2, out_features=32, bias=True)\n",
       "  (1): Sine()\n",
       "  (2): Linear(in_features=32, out_features=32, bias=True)\n",
       "  (3): Sine()\n",
       "  (4): Linear(in_features=32, out_features=32, bias=True)\n",
       "  (5): Sine()\n",
       "  (6): Linear(in_features=32, out_features=1, bias=True)\n",
       ")"
      ]
     },
     "execution_count": 145,
     "metadata": {},
     "output_type": "execute_result"
    }
   ],
   "source": [
    "mlp = nn.Sequential(\n",
    "    nn.Linear(inputs,hn_1),\n",
    "    Sine(),\n",
    "    nn.Linear(hn_1, hn_2),\n",
    "    Sine(),\n",
    "    nn.Linear(hn_2, hn_3),\n",
    "    Sine(),\n",
    "    nn.Linear(hn_3, outputs)\n",
    ")\n",
    "\n",
    "optimizer = torch.optim.Adam(mlp.parameters())\n",
    "criterion = nn.MSELoss()\n",
    "mlp.train()"
   ]
  },
  {
   "cell_type": "markdown",
   "id": "6e009867",
   "metadata": {},
   "source": [
    "In this section, we define a function that calculates the gradients."
   ]
  },
  {
   "cell_type": "code",
   "execution_count": 146,
   "id": "0ca8952e",
   "metadata": {},
   "outputs": [],
   "source": [
    "def computeGrads(y, x):\n",
    "    grads, = torch.autograd.grad(y, x, grad_outputs=y.data.new(y.shape).fill_(1), create_graph=True, only_inputs=True)\n",
    "    return grads"
   ]
  },
  {
   "cell_type": "markdown",
   "id": "9501f1fc",
   "metadata": {},
   "source": [
    "Next, we define the main training loop and the timer:"
   ]
  },
  {
   "cell_type": "code",
   "execution_count": 147,
   "id": "457b5ba3",
   "metadata": {},
   "outputs": [
    {
     "name": "stdout",
     "output_type": "stream",
     "text": [
      "----Training Started----\n",
      "Step:0| ode_loss 17.13283 ic_loss 0.62717 bc_loss 0.09392\n",
      "Step:500| ode_loss 0.12982 ic_loss 0.00267 bc_loss 0.02203\n",
      "Step:1000| ode_loss 0.01297 ic_loss 0.00177 bc_loss 0.00288\n",
      "Step:1500| ode_loss 0.00718 ic_loss 0.00060 bc_loss 0.00100\n",
      "Step:2000| ode_loss 0.00517 ic_loss 0.00022 bc_loss 0.00028\n",
      "Step:2500| ode_loss 0.00540 ic_loss 0.00031 bc_loss 0.00050\n",
      "Step:3000| ode_loss 0.00266 ic_loss 0.00024 bc_loss 0.00025\n",
      "Step:3500| ode_loss 0.00518 ic_loss 0.00028 bc_loss 0.00084\n",
      "Step:4000| ode_loss 0.00073 ic_loss 0.00011 bc_loss 0.00027\n",
      "Step:4500| ode_loss 0.00064 ic_loss 0.00009 bc_loss 0.00015\n",
      "Step:5000| ode_loss 0.00063 ic_loss 0.00007 bc_loss 0.00030\n",
      "Step:5500| ode_loss 0.00082 ic_loss 0.00004 bc_loss 0.00021\n",
      "Step:6000| ode_loss 0.00023 ic_loss 0.00008 bc_loss 0.00010\n",
      "Step:6500| ode_loss 0.00020 ic_loss 0.00004 bc_loss 0.00007\n",
      "Step:7000| ode_loss 0.00029 ic_loss 0.00005 bc_loss 0.00005\n",
      "Step:7500| ode_loss 0.00047 ic_loss 0.00004 bc_loss 0.00007\n",
      "Step:8000| ode_loss 0.00030 ic_loss 0.00005 bc_loss 0.00006\n",
      "Step:8500| ode_loss 0.00098 ic_loss 0.00005 bc_loss 0.00010\n",
      "Step:9000| ode_loss 0.00018 ic_loss 0.00003 bc_loss 0.00003\n",
      "Step:9500| ode_loss 0.00034 ic_loss 0.00004 bc_loss 0.00006\n",
      "Step:10000| ode_loss 0.00031 ic_loss 0.00006 bc_loss 0.00004\n",
      "Step:10500| ode_loss 0.00040 ic_loss 0.00005 bc_loss 0.00006\n",
      "Step:11000| ode_loss 0.00014 ic_loss 0.00002 bc_loss 0.00003\n",
      "Step:11500| ode_loss 0.00041 ic_loss 0.00003 bc_loss 0.00004\n",
      "Step:12000| ode_loss 0.00015 ic_loss 0.00002 bc_loss 0.00001\n",
      "---Training Finished---\n",
      "Training Duration: 12319 steps in 34.793 seconds\n"
     ]
    }
   ],
   "source": [
    "starttime_train = datetime.datetime.now()\n",
    "print('----Training Started----')\n",
    "\n",
    "while steps < max_steps and loss > min_loss:\n",
    "    x = (x_max - x_min)*torch.rand(samples) + x_min\n",
    "    t = torch.rand(samples)\n",
    "    X = torch.stack([x, t], axis=-1)\n",
    "    X.requires_grad = True\n",
    "    Y = mlp(X)\n",
    "    grads = computeGrads(Y, X)\n",
    "    dydx = grads[:, :1]\n",
    "    dydt = grads[:, 1:]\n",
    "    grads2 = computeGrads(dydx, X)\n",
    "    d2ydx2 = grads2[:, :1]\n",
    "    ode_loss = criterion(dydt, d2ydx2 - (e(-t)*(sin(pi*x) - (pi**2)*sin(pi*x))).unsqueeze(1))\n",
    "\n",
    "    #initial condition\n",
    "    x = (x_max - x_min)*torch.rand(samples) + x_min\n",
    "    t_0 = torch.zeros(samples)\n",
    "    X_initial = torch.stack([x, t_0], axis=-1)\n",
    "    Y_initial = mlp(X_initial)\n",
    "    y_initial = sin(pi*x).unsqueeze(1)\n",
    "    ic_loss = criterion(Y_initial, y_initial)\n",
    "\n",
    "    #boundary conditions x=-1\n",
    "    x_1 = -torch.ones(samples)\n",
    "    t = torch.rand(samples)\n",
    "    X_boundary_1 = torch.stack([x_1, t], axis=-1)\n",
    "    Y_boundary_1 = mlp(X_boundary_1)\n",
    "    zero = torch.zeros(samples, 1)\n",
    "    bc_1_loss = criterion(Y_boundary_1, zero)\n",
    "    \n",
    "    #boundary conditions x=1\n",
    "    x1 = torch.ones(samples)\n",
    "    X_boundary1 = torch.stack([x1, t], axis=-1)\n",
    "    Y_boundary1 = mlp(X_boundary1)\n",
    "    bc1_loss = criterion(Y_boundary1, zero)\n",
    "\n",
    "    bc_loss = bc_1_loss + bc1_loss\n",
    "\n",
    "    optimizer.zero_grad()\n",
    "    loss = ode_loss + ic_loss  + bc_loss\n",
    "    loss.backward()\n",
    "    optimizer.step()\n",
    "\n",
    "    loss_values.append(loss.detach().numpy())\n",
    "\n",
    "    if steps % log_each == 0:\n",
    "        print(f'Step:{steps}| ode_loss {ode_loss.item():.5f} ic_loss {ic_loss.item():.5f} bc_loss {bc_loss.item():.5f}')\n",
    "\n",
    "    steps+=1\n",
    "\n",
    "endtime_train = datetime.datetime.now()\n",
    "train_time = endtime_train - starttime_train\n",
    "train_time_formatted = train_time.seconds + train_time.microseconds / 1e6\n",
    "print('---Training Finished---')\n",
    "\n",
    "print(f'Training Duration: {steps} steps in {train_time_formatted:.3f} seconds')"
   ]
  },
  {
   "cell_type": "markdown",
   "id": "eb2dc71f",
   "metadata": {},
   "source": [
    "## Visualization\n",
    "\n",
    "To visualize the model solution, we generate the output of the trained model and display it as a GIF alongside the reference solution."
   ]
  },
  {
   "cell_type": "code",
   "execution_count": null,
   "id": "870e77f8",
   "metadata": {},
   "outputs": [],
   "source": [
    "x = torch.linspace(x_min, x_max, samples)\n",
    "t = torch.linspace(0, 1, samples)\n",
    "\n",
    "def sol(x, t):\n",
    "    return e(-t)*sin(pi*x)\n",
    "\n",
    "y = [] \n",
    "ref_sol = []\n",
    "time = []\n",
    "\n",
    "for t_ in t:\n",
    "    with torch.no_grad():\n",
    "        X = torch.stack([x, torch.ones(samples)*t_], axis=-1)\n",
    "        Y = mlp(X)\n",
    "    y.append(Y.detach().numpy())\n",
    "    ref_sol.append(sol(x, t_))\n",
    "    time.append(t_)\n",
    "\n",
    "def update(i):\n",
    "    ax.clear()\n",
    "    ax.plot(x, y[i], '.-', label = 'PINN')\n",
    "    ax.plot(x, ref_sol[i], '-', label = 'Reference')\n",
    "    ax.set_xlabel('$x$')\n",
    "    ax.set_ylabel('$y(x,t)$')\n",
    "    ax.set_title(f'$t = {time[i]:.3f}$')\n",
    "    ax.set_ylim(-1.5, 1.5)\n",
    "    ax.grid(True)\n",
    "    ax.legend()\n",
    "    return ax\n",
    "\n",
    "fig = plt.figure(dpi=100)\n",
    "ax = plt.subplot(1,1,1)\n",
    "anim = animation.FuncAnimation(fig, update, frames=len(y), interval=200)\n",
    "plt.close(fig)"
   ]
  },
  {
   "cell_type": "markdown",
   "id": "d0a24f31",
   "metadata": {},
   "source": [
    "<a href=\"https://raw.githubusercontent.com/munozmfrancisco/PINNs/main/GIFs/Forward/diffusion.gif\" target=\"_blank\">\n",
    "    Animation\n",
    "</a>"
   ]
  }
 ],
 "metadata": {
  "kernelspec": {
   "display_name": "Python 3",
   "language": "python",
   "name": "python3"
  },
  "language_info": {
   "codemirror_mode": {
    "name": "ipython",
    "version": 3
   },
   "file_extension": ".py",
   "mimetype": "text/x-python",
   "name": "python",
   "nbconvert_exporter": "python",
   "pygments_lexer": "ipython3",
   "version": "3.10.1"
  }
 },
 "nbformat": 4,
 "nbformat_minor": 5
}
