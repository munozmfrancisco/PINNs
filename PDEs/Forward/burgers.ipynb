{
 "cells": [
  {
   "cell_type": "markdown",
   "id": "c0e164bc",
   "metadata": {},
   "source": [
    "# Burgers' Equation\n",
    "\n",
    "We will solve a Burgers' equation:\n",
    "\n",
    "$$\n",
    "\\frac{\\partial u}{\\partial t} + u\\frac{\\partial u}{\\partial x} = v\\frac{\\partial^2 u}{\\partial x^2}, \\qquad \\text{where} \\quad x  \\in [-1,1],  \\quad t \\in [0,1],\n",
    "$$\n",
    "\n",
    "with the Dirichlet boundary conditions and the initial condition:\n",
    "\n",
    "$$\n",
    "u(-1,t) = u(1,t) = 0, \\qquad u(x,0) = -sin(\\pi x)\n",
    "$$\n",
    "\n",
    "where $v = 0.1/\\pi$.\n",
    "\n",
    "The reference solution is computed by finite differences *here*."
   ]
  },
  {
   "cell_type": "markdown",
   "id": "291a3c07",
   "metadata": {},
   "source": [
    "## Implementation and Training\n",
    "\n",
    "First, we import the libraries:"
   ]
  },
  {
   "cell_type": "code",
   "execution_count": 11,
   "id": "d8790467",
   "metadata": {},
   "outputs": [],
   "source": [
    "import torch\n",
    "import torch.nn as nn\n",
    "import numpy as np\n",
    "import matplotlib.pyplot as plt\n",
    "from matplotlib import animation\n",
    "from matplotlib.animation import PillowWriter\n",
    "import datetime\n",
    "import math"
   ]
  },
  {
   "cell_type": "markdown",
   "id": "74036062",
   "metadata": {},
   "source": [
    "We set the value of $v$, the value of $\\pi$, define the $sine$ function and the maximum and minimum values of the $x$ domain:"
   ]
  },
  {
   "cell_type": "code",
   "execution_count": 12,
   "id": "0aaaf432",
   "metadata": {},
   "outputs": [],
   "source": [
    "sin = torch.sin\n",
    "pi = math.pi\n",
    "v=0.1/pi\n",
    "\n",
    "x_min = -1.\n",
    "x_max = 1."
   ]
  },
  {
   "cell_type": "markdown",
   "id": "9c339ea8",
   "metadata": {},
   "source": [
    "Now, we set the parameters of the neural network: it has a structure with 2 inputs ($x, t$) and 1 output ($u(x,t)$), 20000 maximum training steps, 3 hidden layers with 64 neurons each, 100 samples and a target minimum loss value of $10^{-4}$."
   ]
  },
  {
   "cell_type": "code",
   "execution_count": 13,
   "id": "f7652890",
   "metadata": {},
   "outputs": [],
   "source": [
    "inputs = 2\n",
    "outputs = 1\n",
    "hn_1 = 64\n",
    "hn_2 = 64\n",
    "hn_3 = 64\n",
    "steps = 0\n",
    "max_steps = 20000\n",
    "loss = 10\n",
    "min_loss = 1e-4\n",
    "log_each = 500\n",
    "samples = 100\n",
    "loss_values = []"
   ]
  },
  {
   "cell_type": "markdown",
   "id": "4ef4cdf6",
   "metadata": {},
   "source": [
    "In this part, we define a new class implementing the activation function $sin(x)$, due to the oscillatory nature of the solution."
   ]
  },
  {
   "cell_type": "code",
   "execution_count": 14,
   "id": "edb35cb8",
   "metadata": {},
   "outputs": [],
   "source": [
    "class Sine(nn.Module):\n",
    "    def __init__(self):\n",
    "        super().__init__()\n",
    "    def forward(self, x):\n",
    "        return torch.sin(x)"
   ]
  },
  {
   "cell_type": "markdown",
   "id": "d351416b",
   "metadata": {},
   "source": [
    "The multilayer perceptron (MLP) structure is:"
   ]
  },
  {
   "cell_type": "code",
   "execution_count": 15,
   "id": "ff9a96aa",
   "metadata": {},
   "outputs": [
    {
     "data": {
      "text/plain": [
       "Sequential(\n",
       "  (0): Linear(in_features=2, out_features=64, bias=True)\n",
       "  (1): Sine()\n",
       "  (2): Linear(in_features=64, out_features=64, bias=True)\n",
       "  (3): Sine()\n",
       "  (4): Linear(in_features=64, out_features=64, bias=True)\n",
       "  (5): Sine()\n",
       "  (6): Linear(in_features=64, out_features=1, bias=True)\n",
       ")"
      ]
     },
     "execution_count": 15,
     "metadata": {},
     "output_type": "execute_result"
    }
   ],
   "source": [
    "mlp = nn.Sequential(\n",
    "    nn.Linear(inputs,hn_1),\n",
    "    Sine(),\n",
    "    nn.Linear(hn_1, hn_2),\n",
    "    Sine(),\n",
    "    nn.Linear(hn_2, hn_3),\n",
    "    Sine(),\n",
    "    nn.Linear(hn_3, outputs)\n",
    ")\n",
    "\n",
    "optimizer = torch.optim.Adam(mlp.parameters())\n",
    "criterion = nn.MSELoss()\n",
    "mlp.train()"
   ]
  },
  {
   "cell_type": "markdown",
   "id": "6e009867",
   "metadata": {},
   "source": [
    "In this section, we define a function that calculates the gradients."
   ]
  },
  {
   "cell_type": "code",
   "execution_count": 16,
   "id": "0ca8952e",
   "metadata": {},
   "outputs": [],
   "source": [
    "def computeGrads(y, x):\n",
    "    grads, = torch.autograd.grad(y, x, grad_outputs=y.data.new(y.shape).fill_(1), create_graph=True, only_inputs=True)\n",
    "    return grads"
   ]
  },
  {
   "cell_type": "markdown",
   "id": "9501f1fc",
   "metadata": {},
   "source": [
    "Next, we define the main training loop and the timer:"
   ]
  },
  {
   "cell_type": "code",
   "execution_count": null,
   "id": "457b5ba3",
   "metadata": {},
   "outputs": [
    {
     "name": "stdout",
     "output_type": "stream",
     "text": [
      "----Training Started----\n",
      "Step:0| pde_loss 0.00490 ic_loss 0.49357 bc_loss 0.00646\n",
      "Step:500| pde_loss 0.02809 ic_loss 0.03244 bc_loss 0.00340\n",
      "Step:1000| pde_loss 0.01272 ic_loss 0.00888 bc_loss 0.00096\n",
      "Step:1500| pde_loss 0.00812 ic_loss 0.00491 bc_loss 0.00042\n",
      "Step:2000| pde_loss 0.00466 ic_loss 0.00200 bc_loss 0.00038\n",
      "Step:2500| pde_loss 0.00674 ic_loss 0.00189 bc_loss 0.00024\n",
      "Step:3000| pde_loss 0.00529 ic_loss 0.00145 bc_loss 0.00017\n",
      "Step:3500| pde_loss 0.00617 ic_loss 0.00121 bc_loss 0.00011\n",
      "Step:4000| pde_loss 0.00517 ic_loss 0.00109 bc_loss 0.00016\n",
      "Step:4500| pde_loss 0.00250 ic_loss 0.00060 bc_loss 0.00009\n",
      "Step:5000| pde_loss 0.00186 ic_loss 0.00028 bc_loss 0.00027\n",
      "Step:5500| pde_loss 0.00255 ic_loss 0.00039 bc_loss 0.00012\n",
      "Step:6000| pde_loss 0.00209 ic_loss 0.00020 bc_loss 0.00002\n",
      "Step:6500| pde_loss 0.00096 ic_loss 0.00017 bc_loss 0.00007\n",
      "Step:7000| pde_loss 0.00082 ic_loss 0.00015 bc_loss 0.00002\n",
      "Step:7500| pde_loss 0.00091 ic_loss 0.00018 bc_loss 0.00009\n",
      "Step:8000| pde_loss 0.00099 ic_loss 0.00005 bc_loss 0.00002\n",
      "Step:8500| pde_loss 0.00055 ic_loss 0.00006 bc_loss 0.00011\n",
      "Step:9000| pde_loss 0.00065 ic_loss 0.00018 bc_loss 0.00012\n",
      "Step:9500| pde_loss 0.00062 ic_loss 0.00006 bc_loss 0.00002\n",
      "Step:10000| pde_loss 0.00058 ic_loss 0.00008 bc_loss 0.00004\n",
      "Step:10500| pde_loss 0.00030 ic_loss 0.00003 bc_loss 0.00004\n",
      "Step:11000| pde_loss 0.00268 ic_loss 0.00016 bc_loss 0.00024\n",
      "Step:11500| pde_loss 0.00048 ic_loss 0.00005 bc_loss 0.00004\n",
      "Step:12000| pde_loss 0.00090 ic_loss 0.00004 bc_loss 0.00003\n",
      "Step:12500| pde_loss 0.00071 ic_loss 0.00005 bc_loss 0.00010\n",
      "Step:13000| pde_loss 0.00025 ic_loss 0.00003 bc_loss 0.00009\n",
      "Step:13500| pde_loss 0.00033 ic_loss 0.00002 bc_loss 0.00002\n",
      "Step:14000| pde_loss 0.00037 ic_loss 0.00001 bc_loss 0.00004\n",
      "Step:14500| pde_loss 0.00038 ic_loss 0.00004 bc_loss 0.00013\n",
      "Step:15000| pde_loss 0.00037 ic_loss 0.00001 bc_loss 0.00002\n",
      "Step:15500| pde_loss 0.00025 ic_loss 0.00002 bc_loss 0.00001\n",
      "Step:16000| pde_loss 0.00036 ic_loss 0.00001 bc_loss 0.00001\n",
      "Step:16500| pde_loss 0.00041 ic_loss 0.00004 bc_loss 0.00003\n",
      "Step:17000| pde_loss 0.00023 ic_loss 0.00002 bc_loss 0.00002\n",
      "Step:17500| pde_loss 0.00019 ic_loss 0.00001 bc_loss 0.00002\n",
      "Step:18000| pde_loss 0.00021 ic_loss 0.00002 bc_loss 0.00002\n",
      "Step:18500| pde_loss 0.00018 ic_loss 0.00003 bc_loss 0.00009\n",
      "---Training Finished---\n",
      "Training Duration: 18854 steps in 56.706 seconds\n"
     ]
    }
   ],
   "source": [
    "starttime_train = datetime.datetime.now()\n",
    "print('----Training Started----')\n",
    "\n",
    "while steps < max_steps and loss > min_loss:\n",
    "    x = (x_max - x_min)*torch.rand(samples) + x_min\n",
    "    t = torch.rand(samples)\n",
    "    X = torch.stack([x, t], axis=-1)\n",
    "    X.requires_grad = True\n",
    "    Y = mlp(X)\n",
    "    grads = computeGrads(Y, X)\n",
    "    dudx = grads[:, :1]\n",
    "    dudt = grads[:, 1:]\n",
    "    grads2 = computeGrads(dudx, X)\n",
    "    d2udx2 = grads2[:, :1]\n",
    "    pde_loss = criterion(dudt, v * d2udx2 - Y * dudx)\n",
    "\n",
    "    #initial condition\n",
    "    t0 = torch.zeros(samples)\n",
    "    X_initial = torch.stack([x, t0], axis=-1)\n",
    "    Y_initial = mlp(X_initial)\n",
    "    u_initial = -sin(pi * x).unsqueeze(1)\n",
    "    ic_loss = criterion(Y_initial, u_initial)\n",
    "\n",
    "    #boundary conditions x=-1\n",
    "    x_1 = -torch.ones(samples)\n",
    "    X_boundary_1 = torch.stack([x_1, t], axis=-1)\n",
    "    Y_boundary_1 = mlp(X_boundary_1)\n",
    "    zero = torch.zeros(samples, 1)\n",
    "    bc_1_loss = criterion(Y_boundary_1, zero)\n",
    "    \n",
    "    #boundary conditions x=1\n",
    "    x1 = torch.ones(samples)\n",
    "    X_boundary1 = torch.stack([x1, t], axis=-1)\n",
    "    Y_boundary1 = mlp(X_boundary1)\n",
    "    bc1_loss = criterion(Y_boundary1, zero)\n",
    "\n",
    "    bc_loss = bc_1_loss + bc1_loss\n",
    "\n",
    "    optimizer.zero_grad()\n",
    "    loss = pde_loss + ic_loss  + bc_loss\n",
    "    loss.backward()\n",
    "    optimizer.step()\n",
    "\n",
    "    loss_values.append(loss.detach().numpy())\n",
    "\n",
    "    if steps % log_each == 0:\n",
    "        print(f'Step:{steps}| pde_loss {pde_loss.item():.5f} ic_loss {ic_loss.item():.5f} bc_loss {bc_loss.item():.5f}')\n",
    "\n",
    "    steps+=1\n",
    "\n",
    "endtime_train = datetime.datetime.now()\n",
    "train_time = endtime_train - starttime_train\n",
    "train_time_formatted = train_time.seconds + train_time.microseconds / 1e6\n",
    "print('---Training Finished---')\n",
    "\n",
    "print(f'Training Duration: {steps} steps in {train_time_formatted:.3f} seconds')"
   ]
  },
  {
   "cell_type": "markdown",
   "id": "eb2dc71f",
   "metadata": {},
   "source": [
    "## Visualization\n",
    "\n",
    "To visualize model solution, we obtain the output of the trained model and display it as a gif."
   ]
  },
  {
   "cell_type": "code",
   "execution_count": 19,
   "id": "870e77f8",
   "metadata": {},
   "outputs": [
    {
     "name": "stderr",
     "output_type": "stream",
     "text": [
      "/Library/Frameworks/Python.framework/Versions/3.10/lib/python3.10/site-packages/matplotlib/animation.py:892: UserWarning: Animation was deleted without rendering anything. This is most likely not intended. To prevent deletion, assign the Animation to a variable, e.g. `anim`, that exists until you output the Animation using `plt.show()` or `anim.save()`.\n",
      "  warnings.warn(\n"
     ]
    }
   ],
   "source": [
    "x = torch.linspace(x_min, x_max, samples)\n",
    "t = torch.linspace(0, 1, samples)\n",
    "\n",
    "u = [] \n",
    "time = []\n",
    "\n",
    "for t_ in t:\n",
    "    with torch.no_grad():\n",
    "        X = torch.stack([x, torch.ones(samples)*t_], axis=-1)\n",
    "        Y = mlp(X)\n",
    "    u.append(Y.detach().numpy())\n",
    "    time.append(t_)\n",
    "\n",
    "def update(i):\n",
    "    ax.clear()\n",
    "    ax.plot(x, u[i])\n",
    "    ax.set_xlabel('$x$')\n",
    "    ax.set_ylabel('$u(x,t)$')\n",
    "    ax.set_title(f'$t = {time[i]:.3f}$')\n",
    "    ax.set_ylim(-1.1,1.1)\n",
    "    ax.grid(True)\n",
    "    return ax\n",
    "\n",
    "fig = plt.figure(dpi=100)\n",
    "ax = plt.subplot(1,1,1)\n",
    "anim = animation.FuncAnimation(fig, update, frames=len(u), interval=200)\n",
    "anim.save('burgers.gif', dpi=300, writer=PillowWriter(fps=25))\n",
    "plt.close(fig)"
   ]
  },
  {
   "cell_type": "markdown",
   "id": "43bbe871",
   "metadata": {},
   "source": [
    "[Animation](https://github.com/munozmfrancisco/PINNs/raw/main/GIFs/Forward/burgers.gif)"
   ]
  }
 ],
 "metadata": {
  "kernelspec": {
   "display_name": "Python 3",
   "language": "python",
   "name": "python3"
  },
  "language_info": {
   "codemirror_mode": {
    "name": "ipython",
    "version": 3
   },
   "file_extension": ".py",
   "mimetype": "text/x-python",
   "name": "python",
   "nbconvert_exporter": "python",
   "pygments_lexer": "ipython3",
   "version": "3.10.1"
  }
 },
 "nbformat": 4,
 "nbformat_minor": 5
}
