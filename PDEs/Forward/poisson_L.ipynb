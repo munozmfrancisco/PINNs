{
 "cells": [
  {
   "cell_type": "markdown",
   "id": "c0e164bc",
   "metadata": {},
   "source": [
    "# Poisson Equation over L-shaped Domain\n",
    "\n",
    "We will solve a Poisson equation:\n",
    "\n",
    "$$\n",
    "\\frac{\\partial^2 u}{\\partial x^2} + \\frac{\\partial^2 u}{\\partial y^2} = -1, \\qquad  \\Omega = [-1, 1]^2 \\backslash [0,1]^2,\n",
    "$$\n",
    "\n",
    "with the Dirichlet boundary conditions on the left boundary:\n",
    "\n",
    "$$\n",
    "u(x, y) = 0, \\qquad (x, y) \\in \\partial \\Omega\n",
    "$$"
   ]
  },
  {
   "cell_type": "markdown",
   "id": "291a3c07",
   "metadata": {},
   "source": [
    "## Implementation and Training\n",
    "\n",
    "First, we import the libraries:"
   ]
  },
  {
   "cell_type": "code",
   "execution_count": 39,
   "id": "d8790467",
   "metadata": {},
   "outputs": [],
   "source": [
    "import torch\n",
    "import torch.nn as nn\n",
    "import numpy as np\n",
    "import matplotlib.pyplot as plt\n",
    "from matplotlib import animation\n",
    "from matplotlib.animation import PillowWriter\n",
    "import datetime"
   ]
  },
  {
   "cell_type": "markdown",
   "id": "bf591b9d",
   "metadata": {},
   "source": [
    "We define the minimum and maximum values of the domain."
   ]
  },
  {
   "cell_type": "code",
   "execution_count": 40,
   "id": "6e5e6363",
   "metadata": {},
   "outputs": [],
   "source": [
    "x_min = -1.\n",
    "x_max = 1."
   ]
  },
  {
   "cell_type": "markdown",
   "id": "9c339ea8",
   "metadata": {},
   "source": [
    "Now, we set the parameters of the neural network: it has a structure with 1 input ($x$) and 1 output ($u(x)$), 5000 maximum training steps, 2 hidden layers with 16 neurons each, 40 samples and a target minimum loss value of $10^{-4}$."
   ]
  },
  {
   "cell_type": "code",
   "execution_count": null,
   "id": "f7652890",
   "metadata": {},
   "outputs": [],
   "source": [
    "inputs = 1\n",
    "outputs = 1\n",
    "hn_1 = 16\n",
    "hn_2 = 16\n",
    "steps = 0\n",
    "max_steps = 5000\n",
    "loss = 10\n",
    "min_loss = 1e-4\n",
    "log_each = 500\n",
    "samples = 40\n",
    "loss_values = []"
   ]
  },
  {
   "cell_type": "markdown",
   "id": "4ef4cdf6",
   "metadata": {},
   "source": [
    "In this part, we define a new class implementing the activation function $sin(x)$, due to the oscillatory nature of the solution."
   ]
  },
  {
   "cell_type": "code",
   "execution_count": 42,
   "id": "edb35cb8",
   "metadata": {},
   "outputs": [],
   "source": [
    "class Sine(nn.Module):\n",
    "    def __init__(self):\n",
    "        super().__init__()\n",
    "    def forward(self, x):\n",
    "        return torch.sin(x)"
   ]
  },
  {
   "cell_type": "markdown",
   "id": "d351416b",
   "metadata": {},
   "source": [
    "The multilayer perceptron (MLP) structure is:"
   ]
  },
  {
   "cell_type": "code",
   "execution_count": 43,
   "id": "ff9a96aa",
   "metadata": {},
   "outputs": [
    {
     "data": {
      "text/plain": [
       "Sequential(\n",
       "  (0): Linear(in_features=1, out_features=16, bias=True)\n",
       "  (1): Sine()\n",
       "  (2): Linear(in_features=16, out_features=16, bias=True)\n",
       "  (3): Sine()\n",
       "  (4): Linear(in_features=16, out_features=1, bias=True)\n",
       ")"
      ]
     },
     "execution_count": 43,
     "metadata": {},
     "output_type": "execute_result"
    }
   ],
   "source": [
    "mlp = nn.Sequential(\n",
    "    nn.Linear(inputs,hn_1),\n",
    "    Sine(),\n",
    "    nn.Linear(hn_1, hn_2),\n",
    "    Sine(),\n",
    "    nn.Linear(hn_2, outputs)\n",
    ")\n",
    "\n",
    "optimizer = torch.optim.Adam(mlp.parameters())\n",
    "criterion = nn.MSELoss()\n",
    "mlp.train()"
   ]
  },
  {
   "cell_type": "markdown",
   "id": "6e009867",
   "metadata": {},
   "source": [
    "In this section, we define a function that calculates the gradients."
   ]
  },
  {
   "cell_type": "code",
   "execution_count": 44,
   "id": "0ca8952e",
   "metadata": {},
   "outputs": [],
   "source": [
    "def computeGrads(y, x):\n",
    "    grads, = torch.autograd.grad(y, x, grad_outputs=y.data.new(y.shape).fill_(1), create_graph=True, only_inputs=True)\n",
    "    return grads"
   ]
  },
  {
   "cell_type": "markdown",
   "id": "9501f1fc",
   "metadata": {},
   "source": [
    "Next, we define the main training loop and the timer:"
   ]
  },
  {
   "cell_type": "code",
   "execution_count": 45,
   "id": "457b5ba3",
   "metadata": {},
   "outputs": [
    {
     "name": "stdout",
     "output_type": "stream",
     "text": [
      "----Training Started----\n",
      "Step:0| ode_loss 4.13929 bc_loss 15.59132\n",
      "Step:500| ode_loss 0.15868 bc_loss 0.05531\n",
      "Step:1000| ode_loss 0.02249 bc_loss 0.00123\n",
      "Step:1500| ode_loss 0.00652 bc_loss 0.00006\n",
      "Step:2000| ode_loss 0.00500 bc_loss 0.00008\n",
      "Step:2500| ode_loss 0.00341 bc_loss 0.00000\n",
      "Step:3000| ode_loss 0.00153 bc_loss 0.00001\n",
      "Step:3500| ode_loss 0.00071 bc_loss 0.00001\n",
      "Step:4000| ode_loss 0.00020 bc_loss 0.00004\n",
      "Step:4500| ode_loss 0.00028 bc_loss 0.00000\n",
      "---Training Finished---\n",
      "Training Duration: 4762 steps in 7.833 seconds\n"
     ]
    }
   ],
   "source": [
    "starttime_train = datetime.datetime.now()\n",
    "print('----Training Started----')\n",
    "\n",
    "while steps < max_steps and loss > min_loss:\n",
    "    X = (x_max - x_min)*torch.rand((samples, 1), requires_grad=True) + x_min\n",
    "    Y = mlp(X)\n",
    "    dudx = computeGrads(Y, X)\n",
    "    d2udx2 = computeGrads(dudx, X)\n",
    "    ode_loss = criterion(d2udx2, 2*torch.ones(samples, 1))\n",
    "\n",
    "    #boundary condition in x=-1\n",
    "    X_1 = -torch.ones(samples, 1)\n",
    "    Y_1 = mlp(X_1)\n",
    "    zero = torch.zeros(samples, 1)\n",
    "    bc_1_loss = criterion(Y_1, zero)\n",
    "\n",
    "    #boundary conditions x=1\n",
    "    X1 = torch.ones(samples, 1)\n",
    "    X1.requires_grad = True\n",
    "    Y1 = mlp(X1)\n",
    "    dudx1 = computeGrads(Y1, X1)\n",
    "    four = 4*torch.ones(samples, 1)\n",
    "    bc1_loss = criterion(dudx1, four)\n",
    "    \n",
    "    bc_loss = bc_1_loss + bc1_loss\n",
    "\n",
    "    optimizer.zero_grad()\n",
    "    loss = ode_loss + bc_loss\n",
    "    loss.backward()\n",
    "    optimizer.step()\n",
    "\n",
    "    loss_values.append(loss.detach().numpy())\n",
    "\n",
    "    if steps % log_each == 0:\n",
    "        print(f'Step:{steps}| ode_loss {ode_loss.item():.5f} bc_loss {bc_loss.item():.5f}')\n",
    "\n",
    "    steps+=1\n",
    "\n",
    "endtime_train = datetime.datetime.now()\n",
    "train_time = endtime_train - starttime_train\n",
    "train_time_formatted = train_time.seconds + train_time.microseconds / 1e6\n",
    "print('---Training Finished---')\n",
    "\n",
    "print(f'Training Duration: {steps} steps in {train_time_formatted:.3f} seconds')"
   ]
  },
  {
   "cell_type": "markdown",
   "id": "eb2dc71f",
   "metadata": {},
   "source": [
    "## Visualization\n",
    "\n",
    "To visualize the model and compare results, we obtain the output of the trained model and plot it alongside the exact solution."
   ]
  },
  {
   "cell_type": "code",
   "execution_count": 46,
   "id": "870e77f8",
   "metadata": {},
   "outputs": [
    {
     "data": {
      "text/plain": [
       "<matplotlib.legend.Legend at 0x133af3a30>"
      ]
     },
     "execution_count": 46,
     "metadata": {},
     "output_type": "execute_result"
    },
    {
     "data": {
      "image/png": "[encoded data removed]",
      "text/plain": [
       "<Figure size 640x480 with 1 Axes>"
      ]
     },
     "metadata": {},
     "output_type": "display_data"
    }
   ],
   "source": [
    "x = np.linspace(-1, 1, samples)\n",
    "\n",
    "def sol(x):\n",
    "    return (x + 1)**2\n",
    "\n",
    "with torch.no_grad():\n",
    "    X = torch.stack([torch.from_numpy(x).float()], axis=-1)\n",
    "    Y = mlp(X)\n",
    "\n",
    "result = Y.detach().numpy()\n",
    "\n",
    "plt.figure()\n",
    "plt.plot(x, sol(x), '-', label = 'Exact Solution')\n",
    "plt.plot(x, result, '.:', label = 'PINN')\n",
    "plt.title('Reference Solution and PINN Approximation for $u(x)$')\n",
    "plt.xlabel('$x$')\n",
    "plt.legend()"
   ]
  }
 ],
 "metadata": {
  "kernelspec": {
   "display_name": "Python 3",
   "language": "python",
   "name": "python3"
  },
  "language_info": {
   "codemirror_mode": {
    "name": "ipython",
    "version": 3
   },
   "file_extension": ".py",
   "mimetype": "text/x-python",
   "name": "python",
   "nbconvert_exporter": "python",
   "pygments_lexer": "ipython3",
   "version": "3.10.1"
  }
 },
 "nbformat": 4,
 "nbformat_minor": 5
}
