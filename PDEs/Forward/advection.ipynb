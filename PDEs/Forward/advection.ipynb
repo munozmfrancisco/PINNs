{
 "cells": [
  {
   "cell_type": "markdown",
   "id": "c0e164bc",
   "metadata": {},
   "source": [
    "# Advection Equation in 1D\n",
    "\n",
    "We will solve a Advection equation in 1D:\n",
    "\n",
    "$$\n",
    "\\frac{\\partial \\phi}{\\partial t} + u\\frac{\\partial \\phi}{\\partial x} = 0, \\qquad \\text{where} \\quad x  \\in [0,1],  \\quad t \\in [0,1],\n",
    "$$\n",
    "\n",
    "with the boundary and initial conditions:\n",
    "\n",
    "$$\n",
    "\\phi(0, t) = \\phi(1, t), \\qquad \\phi(x, 0) = sin(2 \\pi x)\n",
    "$$\n",
    "\n",
    "and using $u = 1$.\n",
    "\n",
    "The reference solution is computed by finite differences *here*.\n",
    "\n",
    "\n",
    "\n",
    "\n"
   ]
  },
  {
   "cell_type": "markdown",
   "id": "291a3c07",
   "metadata": {},
   "source": [
    "## Implementation and Training\n",
    "\n",
    "First, we import the libraries:"
   ]
  },
  {
   "cell_type": "code",
   "execution_count": 60,
   "id": "d8790467",
   "metadata": {},
   "outputs": [],
   "source": [
    "import torch\n",
    "import torch.nn as nn\n",
    "import numpy as np\n",
    "import matplotlib.pyplot as plt\n",
    "from matplotlib import animation\n",
    "from matplotlib.animation import PillowWriter\n",
    "import datetime\n",
    "import math"
   ]
  },
  {
   "cell_type": "markdown",
   "id": "74036062",
   "metadata": {},
   "source": [
    "We set the value of u and define the $sine$ function and the value of $\\pi$:"
   ]
  },
  {
   "cell_type": "code",
   "execution_count": 61,
   "id": "0aaaf432",
   "metadata": {},
   "outputs": [],
   "source": [
    "u = 1.\n",
    "sin = torch.sin\n",
    "pi = math.pi"
   ]
  },
  {
   "cell_type": "markdown",
   "id": "9c339ea8",
   "metadata": {},
   "source": [
    "Now, we set the parameters of the neural network: it has a structure with 2 input ($x, t$) and 1 output ($\\phi(x,t)$), 5000 maximum training steps, 2 hidden layers with 32 neurons each, 100 samples and a target minimum loss value of $10^{-4}$."
   ]
  },
  {
   "cell_type": "code",
   "execution_count": 62,
   "id": "f7652890",
   "metadata": {},
   "outputs": [],
   "source": [
    "inputs = 2\n",
    "outputs = 1\n",
    "hn_1 = 32\n",
    "hn_2 = 32\n",
    "steps = 0\n",
    "max_steps = 5000\n",
    "loss = 10\n",
    "min_loss = 1e-4\n",
    "log_each = 500\n",
    "samples = 100\n",
    "loss_values = []"
   ]
  },
  {
   "cell_type": "markdown",
   "id": "4ef4cdf6",
   "metadata": {},
   "source": [
    "In this part, we define a new class implementing the activation function $sin(x)$, due to the oscillatory nature of the solution."
   ]
  },
  {
   "cell_type": "code",
   "execution_count": 63,
   "id": "edb35cb8",
   "metadata": {},
   "outputs": [],
   "source": [
    "class Sine(nn.Module):\n",
    "    def __init__(self):\n",
    "        super().__init__()\n",
    "    def forward(self, x):\n",
    "        return torch.sin(x)"
   ]
  },
  {
   "cell_type": "markdown",
   "id": "d351416b",
   "metadata": {},
   "source": [
    "The multilayer perceptron (MLP) structure is:"
   ]
  },
  {
   "cell_type": "code",
   "execution_count": 64,
   "id": "ff9a96aa",
   "metadata": {},
   "outputs": [
    {
     "data": {
      "text/plain": [
       "Sequential(\n",
       "  (0): Linear(in_features=2, out_features=32, bias=True)\n",
       "  (1): Sine()\n",
       "  (2): Linear(in_features=32, out_features=32, bias=True)\n",
       "  (3): Sine()\n",
       "  (4): Linear(in_features=32, out_features=1, bias=True)\n",
       ")"
      ]
     },
     "execution_count": 64,
     "metadata": {},
     "output_type": "execute_result"
    }
   ],
   "source": [
    "mlp = nn.Sequential(\n",
    "    nn.Linear(inputs,hn_1),\n",
    "    Sine(),\n",
    "    nn.Linear(hn_1, hn_2),\n",
    "    Sine(),\n",
    "    nn.Linear(hn_2, outputs)\n",
    ")\n",
    "\n",
    "optimizer = torch.optim.Adam(mlp.parameters())\n",
    "criterion = nn.MSELoss()\n",
    "mlp.train()"
   ]
  },
  {
   "cell_type": "markdown",
   "id": "6e009867",
   "metadata": {},
   "source": [
    "In this section, we define a function that calculates the gradients."
   ]
  },
  {
   "cell_type": "code",
   "execution_count": 65,
   "id": "0ca8952e",
   "metadata": {},
   "outputs": [],
   "source": [
    "def computeGrads(y, x):\n",
    "    grads, = torch.autograd.grad(y, x, grad_outputs=y.data.new(y.shape).fill_(1), create_graph=True, only_inputs=True)\n",
    "    return grads"
   ]
  },
  {
   "cell_type": "markdown",
   "id": "9501f1fc",
   "metadata": {},
   "source": [
    "Next, we define the main training loop and the timer:"
   ]
  },
  {
   "cell_type": "code",
   "execution_count": 66,
   "id": "457b5ba3",
   "metadata": {},
   "outputs": [
    {
     "name": "stdout",
     "output_type": "stream",
     "text": [
      "----Training Started----\n",
      "Step:0| ode_loss 0.00548 ic_loss 0.61296 bc_loss 0.00342\n",
      "Step:500| ode_loss 0.00239 ic_loss 0.27273 bc_loss 0.07174\n",
      "Step:1000| ode_loss 0.00405 ic_loss 0.00683 bc_loss 0.01495\n",
      "Step:1500| ode_loss 0.00129 ic_loss 0.00152 bc_loss 0.00509\n",
      "Step:2000| ode_loss 0.00089 ic_loss 0.00066 bc_loss 0.00175\n",
      "Step:2500| ode_loss 0.00055 ic_loss 0.00040 bc_loss 0.00112\n",
      "Step:3000| ode_loss 0.00047 ic_loss 0.00030 bc_loss 0.00085\n",
      "Step:3500| ode_loss 0.00034 ic_loss 0.00029 bc_loss 0.00065\n",
      "Step:4000| ode_loss 0.00026 ic_loss 0.00019 bc_loss 0.00061\n",
      "Step:4500| ode_loss 0.00032 ic_loss 0.00018 bc_loss 0.00037\n",
      "---Training Finished---\n",
      "Training Duration: 5000 steps in 8.271 seconds\n"
     ]
    }
   ],
   "source": [
    "starttime_train = datetime.datetime.now()\n",
    "print('----Training Started----')\n",
    "\n",
    "while steps < max_steps and loss > min_loss:\n",
    "    x = torch.rand(samples)\n",
    "    t = torch.rand(samples)\n",
    "    X = torch.stack([x, t], axis=-1)\n",
    "    X.requires_grad = True\n",
    "    Y = mlp(X)\n",
    "    grads = computeGrads(Y, X)\n",
    "    dphidx = grads[:, :1]\n",
    "    dphidt = grads[:, 1:]\n",
    "    ode_loss = criterion(dphidt, -u*dphidx)\n",
    "\n",
    "    #initial condition\n",
    "    x = torch.rand(samples)\n",
    "    t_0 = torch.zeros(samples)\n",
    "    X_initial = torch.stack([x, t_0], axis=-1)\n",
    "    Y_initial = mlp(X_initial)\n",
    "    phi_initial = sin(2*pi*x).unsqueeze(1)\n",
    "    ic_loss = criterion(Y_initial, phi_initial)\n",
    "\n",
    "    #boundary conditions\n",
    "    x_0 = torch.zeros(samples)\n",
    "    t = torch.rand(samples)\n",
    "    X_boundary0 = torch.stack([x_0, t], axis=-1)\n",
    "    Y_boundary0 = mlp(X_boundary0)\n",
    "    \n",
    "    x_1 = torch.ones(samples)\n",
    "\n",
    "    X_boundary1 = torch.stack([x_1, t], axis=-1)\n",
    "    Y_boundary1 = mlp(X_boundary1)\n",
    "    \n",
    "    bc_loss = criterion(Y_boundary0, Y_boundary1)\n",
    "\n",
    "\n",
    "    optimizer.zero_grad()\n",
    "    loss = ode_loss + ic_loss  + bc_loss\n",
    "    loss.backward()\n",
    "    optimizer.step()\n",
    "\n",
    "    loss_values.append(loss.detach().numpy())\n",
    "\n",
    "    if steps % log_each == 0:\n",
    "        print(f'Step:{steps}| ode_loss {ode_loss.item():.5f} ic_loss {ic_loss.item():.5f} bc_loss {bc_loss.item():.5f}')\n",
    "\n",
    "    steps+=1\n",
    "\n",
    "endtime_train = datetime.datetime.now()\n",
    "train_time = endtime_train - starttime_train\n",
    "train_time_formatted = train_time.seconds + train_time.microseconds / 1e6\n",
    "print('---Training Finished---')\n",
    "\n",
    "print(f'Training Duration: {steps} steps in {train_time_formatted:.3f} seconds')"
   ]
  },
  {
   "cell_type": "markdown",
   "id": "eb2dc71f",
   "metadata": {},
   "source": [
    "## Visualization\n",
    "\n",
    "To visualize the model solution, we obtain the output of the trained model and display it as a GIF."
   ]
  },
  {
   "cell_type": "code",
   "execution_count": 67,
   "id": "870e77f8",
   "metadata": {},
   "outputs": [],
   "source": [
    "x = np.linspace(0, 1, samples)\n",
    "t = np.linspace(0, 1, samples)\n",
    "\n",
    "phi = [] \n",
    "time = []\n",
    "\n",
    "for t_ in t:\n",
    "    with torch.no_grad():\n",
    "        X = torch.stack([torch.from_numpy(x).float(), torch.ones(samples)*t_], axis=-1)\n",
    "        Y = mlp(X)\n",
    "    phi.append(Y.detach().numpy())\n",
    "    time.append(t_)\n",
    "\n",
    "def update(i):\n",
    "    ax.clear()\n",
    "    ax.plot(x, phi[i])\n",
    "    ax.set_xlabel('$x$')\n",
    "    ax.set_ylabel('$\\phi$')\n",
    "    ax.set_title(f'$t = {time[i]:.3f}$')\n",
    "    ax.grid(True)\n",
    "    return ax\n",
    "\n",
    "fig = plt.figure(dpi=100)\n",
    "ax = plt.subplot(1,1,1)\n",
    "anim = animation.FuncAnimation(fig, update, frames=len(phi), interval=200)\n",
    "plt.close(fig)"
   ]
  },
  {
   "cell_type": "markdown",
   "id": "639d9884",
   "metadata": {},
   "source": [
    "<a href=\"https://github.com/munozmfrancisco/PINNs/blob/main/GIFs/Forward/advection.gif\" target=\"_blank\">\n",
    "    Animation\n",
    "</a>"
   ]
  }
 ],
 "metadata": {
  "kernelspec": {
   "display_name": "Python 3",
   "language": "python",
   "name": "python3"
  },
  "language_info": {
   "codemirror_mode": {
    "name": "ipython",
    "version": 3
   },
   "file_extension": ".py",
   "mimetype": "text/x-python",
   "name": "python",
   "nbconvert_exporter": "python",
   "pygments_lexer": "ipython3",
   "version": "3.10.1"
  }
 },
 "nbformat": 4,
 "nbformat_minor": 5
}
