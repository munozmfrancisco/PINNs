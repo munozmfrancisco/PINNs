{
 "cells": [
  {
   "cell_type": "markdown",
   "id": "c0e164bc",
   "metadata": {},
   "source": [
    "# Advection Equation in 1D\n",
    "\n",
    "We will solve a Advection equation in 1D:\n",
    "\n",
    "$$\n",
    "\\frac{\\partial \\phi}{\\partial t} + u\\frac{\\partial \\phi}{\\partial x} = 0, \\qquad \\text{where} \\quad x  \\in [0,1],  \\quad t \\in [0,1],\n",
    "$$\n",
    "\n",
    "with the boundary and initial conditions:\n",
    "\n",
    "$$\n",
    "\\phi(0, t) = \\phi(1, t), \\qquad \\phi(x, 0) = sin(2 \\pi x)\n",
    "$$\n",
    "\n",
    "and using $u = 1$.\n",
    "\n",
    "The reference solution is computed by finite differences *here*.\n",
    "\n",
    "\n",
    "\n",
    "\n"
   ]
  },
  {
   "cell_type": "markdown",
   "id": "291a3c07",
   "metadata": {},
   "source": [
    "## Implementation and Training\n",
    "\n",
    "First, we import the libraries:"
   ]
  },
  {
   "cell_type": "code",
   "execution_count": 47,
   "id": "d8790467",
   "metadata": {},
   "outputs": [],
   "source": [
    "import torch\n",
    "import torch.nn as nn\n",
    "import numpy as np\n",
    "import matplotlib.pyplot as plt\n",
    "from matplotlib import animation\n",
    "from matplotlib.animation import PillowWriter\n",
    "import datetime\n",
    "import math\n",
    "import os"
   ]
  },
  {
   "cell_type": "markdown",
   "id": "74036062",
   "metadata": {},
   "source": [
    "We set the value of u and define the $sine$ function and the value of $\\pi$:"
   ]
  },
  {
   "cell_type": "code",
   "execution_count": 35,
   "id": "0aaaf432",
   "metadata": {},
   "outputs": [],
   "source": [
    "u = 1.\n",
    "sin = torch.sin\n",
    "pi = math.pi"
   ]
  },
  {
   "cell_type": "markdown",
   "id": "9c339ea8",
   "metadata": {},
   "source": [
    "Now, we set the parameters of the neural network: it has a structure with 2 input ($x, t$) and 1 output ($\\phi(x,t)$), 5000 maximum training steps, 2 hidden layers with 32 neurons each, 100 samples and a target minimum loss value of $10^{-4}$."
   ]
  },
  {
   "cell_type": "code",
   "execution_count": 36,
   "id": "f7652890",
   "metadata": {},
   "outputs": [],
   "source": [
    "inputs = 2\n",
    "outputs = 1\n",
    "hn_1 = 32\n",
    "hn_2 = 32\n",
    "steps = 0\n",
    "max_steps = 5000\n",
    "loss = 10\n",
    "min_loss = 1e-4\n",
    "log_each = 500\n",
    "samples = 100\n",
    "loss_values = []"
   ]
  },
  {
   "cell_type": "markdown",
   "id": "4ef4cdf6",
   "metadata": {},
   "source": [
    "In this part, we define a new class implementing the activation function $sin(x)$, due to the oscillatory nature of the solution."
   ]
  },
  {
   "cell_type": "code",
   "execution_count": 37,
   "id": "edb35cb8",
   "metadata": {},
   "outputs": [],
   "source": [
    "class Sine(nn.Module):\n",
    "    def __init__(self):\n",
    "        super().__init__()\n",
    "    def forward(self, x):\n",
    "        return torch.sin(x)"
   ]
  },
  {
   "cell_type": "markdown",
   "id": "d351416b",
   "metadata": {},
   "source": [
    "The multilayer perceptron (MLP) structure is:"
   ]
  },
  {
   "cell_type": "code",
   "execution_count": 38,
   "id": "ff9a96aa",
   "metadata": {},
   "outputs": [
    {
     "data": {
      "text/plain": [
       "Sequential(\n",
       "  (0): Linear(in_features=2, out_features=32, bias=True)\n",
       "  (1): Sine()\n",
       "  (2): Linear(in_features=32, out_features=32, bias=True)\n",
       "  (3): Sine()\n",
       "  (4): Linear(in_features=32, out_features=1, bias=True)\n",
       ")"
      ]
     },
     "execution_count": 38,
     "metadata": {},
     "output_type": "execute_result"
    }
   ],
   "source": [
    "mlp = nn.Sequential(\n",
    "    nn.Linear(inputs,hn_1),\n",
    "    Sine(),\n",
    "    nn.Linear(hn_1, hn_2),\n",
    "    Sine(),\n",
    "    nn.Linear(hn_2, outputs)\n",
    ")\n",
    "\n",
    "optimizer = torch.optim.Adam(mlp.parameters())\n",
    "criterion = nn.MSELoss()\n",
    "mlp.train()"
   ]
  },
  {
   "cell_type": "markdown",
   "id": "6e009867",
   "metadata": {},
   "source": [
    "In this section, we define a function that calculates the gradients."
   ]
  },
  {
   "cell_type": "code",
   "execution_count": 39,
   "id": "0ca8952e",
   "metadata": {},
   "outputs": [],
   "source": [
    "def computeGrads(y, x):\n",
    "    grads, = torch.autograd.grad(y, x, grad_outputs=y.data.new(y.shape).fill_(1), create_graph=True, only_inputs=True)\n",
    "    return grads"
   ]
  },
  {
   "cell_type": "markdown",
   "id": "9501f1fc",
   "metadata": {},
   "source": [
    "Next, we define the main training loop and the timer:"
   ]
  },
  {
   "cell_type": "code",
   "execution_count": 40,
   "id": "457b5ba3",
   "metadata": {},
   "outputs": [
    {
     "name": "stdout",
     "output_type": "stream",
     "text": [
      "----Training Started----\n",
      "Step:0| ode_loss 0.00028 ic_loss 0.53845 bc_loss 0.00073\n",
      "Step:500| ode_loss 0.00166 ic_loss 0.33830 bc_loss 0.05629\n",
      "Step:1000| ode_loss 0.00455 ic_loss 0.03513 bc_loss 0.00818\n",
      "Step:1500| ode_loss 0.00092 ic_loss 0.00201 bc_loss 0.00289\n",
      "Step:2000| ode_loss 0.00073 ic_loss 0.00078 bc_loss 0.00178\n",
      "Step:2500| ode_loss 0.00041 ic_loss 0.00036 bc_loss 0.00144\n",
      "Step:3000| ode_loss 0.00022 ic_loss 0.00029 bc_loss 0.00110\n",
      "Step:3500| ode_loss 0.00025 ic_loss 0.00018 bc_loss 0.00083\n",
      "Step:4000| ode_loss 0.00023 ic_loss 0.00015 bc_loss 0.00055\n",
      "Step:4500| ode_loss 0.00019 ic_loss 0.00004 bc_loss 0.00017\n",
      "---Training Finished---\n",
      "Training Duration: 5000 steps in 8.463 seconds\n"
     ]
    }
   ],
   "source": [
    "starttime_train = datetime.datetime.now()\n",
    "print('----Training Started----')\n",
    "\n",
    "while steps < max_steps and loss > min_loss:\n",
    "    x = torch.rand(samples)\n",
    "    t = torch.rand(samples)\n",
    "    X = torch.stack([x, t], axis=-1)\n",
    "    X.requires_grad = True\n",
    "    Y = mlp(X)\n",
    "    grads = computeGrads(Y, X)\n",
    "    dphidx = grads[:, :1]\n",
    "    dphidt = grads[:, 1:]\n",
    "    ode_loss = criterion(dphidt, -u*dphidx)\n",
    "\n",
    "    #initial condition\n",
    "    x = torch.rand(samples)\n",
    "    t_0 = torch.zeros(samples)\n",
    "    X_initial = torch.stack([x, t_0], axis=-1)\n",
    "    Y_initial = mlp(X_initial)\n",
    "    phi_initial = sin(2*pi*x).unsqueeze(1)\n",
    "    ic_loss = criterion(Y_initial, phi_initial)\n",
    "\n",
    "    #boundary conditions\n",
    "    x_0 = torch.zeros(samples)\n",
    "    t = torch.rand(samples)\n",
    "    X_boundary0 = torch.stack([x_0, t], axis=-1)\n",
    "    Y_boundary0 = mlp(X_boundary0)\n",
    "    \n",
    "    x_1 = torch.ones(samples)\n",
    "\n",
    "    X_boundary1 = torch.stack([x_1, t], axis=-1)\n",
    "    Y_boundary1 = mlp(X_boundary1)\n",
    "    \n",
    "    bc_loss = criterion(Y_boundary0, Y_boundary1)\n",
    "\n",
    "\n",
    "    optimizer.zero_grad()\n",
    "    loss = ode_loss + ic_loss  + bc_loss\n",
    "    loss.backward()\n",
    "    optimizer.step()\n",
    "\n",
    "    loss_values.append(loss.detach().numpy())\n",
    "\n",
    "    if steps % log_each == 0:\n",
    "        print(f'Step:{steps}| ode_loss {ode_loss.item():.5f} ic_loss {ic_loss.item():.5f} bc_loss {bc_loss.item():.5f}')\n",
    "\n",
    "    steps+=1\n",
    "\n",
    "endtime_train = datetime.datetime.now()\n",
    "train_time = endtime_train - starttime_train\n",
    "train_time_formatted = train_time.seconds + train_time.microseconds / 1e6\n",
    "print('---Training Finished---')\n",
    "\n",
    "print(f'Training Duration: {steps} steps in {train_time_formatted:.3f} seconds')"
   ]
  },
  {
   "cell_type": "markdown",
   "id": "eb2dc71f",
   "metadata": {},
   "source": [
    "## Visualization\n",
    "\n",
    "To visualize the model solution, we obtain the output of the trained model and display it as a GIF."
   ]
  },
  {
   "cell_type": "code",
   "execution_count": null,
   "id": "870e77f8",
   "metadata": {},
   "outputs": [
    {
     "ename": "FileNotFoundError",
     "evalue": "[Errno 2] No such file or directory: '../..GIFs'",
     "output_type": "error",
     "traceback": [
      "\u001b[0;31m---------------------------------------------------------------------------\u001b[0m",
      "\u001b[0;31mFileNotFoundError\u001b[0m                         Traceback (most recent call last)",
      "Cell \u001b[0;32mIn[49], line 28\u001b[0m\n\u001b[1;32m     26\u001b[0m ax \u001b[38;5;241m=\u001b[39m plt\u001b[38;5;241m.\u001b[39msubplot(\u001b[38;5;241m1\u001b[39m,\u001b[38;5;241m1\u001b[39m,\u001b[38;5;241m1\u001b[39m)\n\u001b[1;32m     27\u001b[0m anim \u001b[38;5;241m=\u001b[39m animation\u001b[38;5;241m.\u001b[39mFuncAnimation(fig, update, frames\u001b[38;5;241m=\u001b[39m\u001b[38;5;28mlen\u001b[39m(phi), interval\u001b[38;5;241m=\u001b[39m\u001b[38;5;241m200\u001b[39m)\n\u001b[0;32m---> 28\u001b[0m \u001b[43manim\u001b[49m\u001b[38;5;241;43m.\u001b[39;49m\u001b[43msave\u001b[49m\u001b[43m(\u001b[49m\u001b[38;5;124;43m'\u001b[39;49m\u001b[38;5;124;43m../..GIFs/Forward/advection.gif\u001b[39;49m\u001b[38;5;124;43m'\u001b[39;49m\u001b[43m,\u001b[49m\u001b[43m \u001b[49m\u001b[43mdpi\u001b[49m\u001b[38;5;241;43m=\u001b[39;49m\u001b[38;5;241;43m300\u001b[39;49m\u001b[43m,\u001b[49m\u001b[43m \u001b[49m\u001b[43mwriter\u001b[49m\u001b[38;5;241;43m=\u001b[39;49m\u001b[43mPillowWriter\u001b[49m\u001b[43m(\u001b[49m\u001b[43mfps\u001b[49m\u001b[38;5;241;43m=\u001b[39;49m\u001b[38;5;241;43m25\u001b[39;49m\u001b[43m)\u001b[49m\u001b[43m)\u001b[49m\n\u001b[1;32m     29\u001b[0m plt\u001b[38;5;241m.\u001b[39mclose(fig)\n",
      "File \u001b[0;32m/Library/Frameworks/Python.framework/Versions/3.10/lib/python3.10/site-packages/matplotlib/animation.py:1089\u001b[0m, in \u001b[0;36mAnimation.save\u001b[0;34m(self, filename, writer, fps, dpi, codec, bitrate, extra_args, metadata, extra_anim, savefig_kwargs, progress_callback)\u001b[0m\n\u001b[1;32m   1085\u001b[0m savefig_kwargs[\u001b[38;5;124m'\u001b[39m\u001b[38;5;124mtransparent\u001b[39m\u001b[38;5;124m'\u001b[39m] \u001b[38;5;241m=\u001b[39m \u001b[38;5;28;01mFalse\u001b[39;00m   \u001b[38;5;66;03m# just to be safe!\u001b[39;00m\n\u001b[1;32m   1086\u001b[0m \u001b[38;5;66;03m# canvas._is_saving = True makes the draw_event animation-starting\u001b[39;00m\n\u001b[1;32m   1087\u001b[0m \u001b[38;5;66;03m# callback a no-op; canvas.manager = None prevents resizing the GUI\u001b[39;00m\n\u001b[1;32m   1088\u001b[0m \u001b[38;5;66;03m# widget (both are likewise done in savefig()).\u001b[39;00m\n\u001b[0;32m-> 1089\u001b[0m \u001b[38;5;28;01mwith\u001b[39;00m writer\u001b[38;5;241m.\u001b[39msaving(\u001b[38;5;28mself\u001b[39m\u001b[38;5;241m.\u001b[39m_fig, filename, dpi), \\\n\u001b[1;32m   1090\u001b[0m      cbook\u001b[38;5;241m.\u001b[39m_setattr_cm(\u001b[38;5;28mself\u001b[39m\u001b[38;5;241m.\u001b[39m_fig\u001b[38;5;241m.\u001b[39mcanvas, _is_saving\u001b[38;5;241m=\u001b[39m\u001b[38;5;28;01mTrue\u001b[39;00m, manager\u001b[38;5;241m=\u001b[39m\u001b[38;5;28;01mNone\u001b[39;00m):\n\u001b[1;32m   1091\u001b[0m     \u001b[38;5;28;01mfor\u001b[39;00m anim \u001b[38;5;129;01min\u001b[39;00m all_anim:\n\u001b[1;32m   1092\u001b[0m         anim\u001b[38;5;241m.\u001b[39m_init_draw()  \u001b[38;5;66;03m# Clear the initial frame\u001b[39;00m\n",
      "File \u001b[0;32m/Library/Frameworks/Python.framework/Versions/3.10/lib/python3.10/contextlib.py:135\u001b[0m, in \u001b[0;36m_GeneratorContextManager.__enter__\u001b[0;34m(self)\u001b[0m\n\u001b[1;32m    133\u001b[0m \u001b[38;5;28;01mdel\u001b[39;00m \u001b[38;5;28mself\u001b[39m\u001b[38;5;241m.\u001b[39margs, \u001b[38;5;28mself\u001b[39m\u001b[38;5;241m.\u001b[39mkwds, \u001b[38;5;28mself\u001b[39m\u001b[38;5;241m.\u001b[39mfunc\n\u001b[1;32m    134\u001b[0m \u001b[38;5;28;01mtry\u001b[39;00m:\n\u001b[0;32m--> 135\u001b[0m     \u001b[38;5;28;01mreturn\u001b[39;00m \u001b[38;5;28;43mnext\u001b[39;49m\u001b[43m(\u001b[49m\u001b[38;5;28;43mself\u001b[39;49m\u001b[38;5;241;43m.\u001b[39;49m\u001b[43mgen\u001b[49m\u001b[43m)\u001b[49m\n\u001b[1;32m    136\u001b[0m \u001b[38;5;28;01mexcept\u001b[39;00m \u001b[38;5;167;01mStopIteration\u001b[39;00m:\n\u001b[1;32m    137\u001b[0m     \u001b[38;5;28;01mraise\u001b[39;00m \u001b[38;5;167;01mRuntimeError\u001b[39;00m(\u001b[38;5;124m\"\u001b[39m\u001b[38;5;124mgenerator didn\u001b[39m\u001b[38;5;124m'\u001b[39m\u001b[38;5;124mt yield\u001b[39m\u001b[38;5;124m\"\u001b[39m) \u001b[38;5;28;01mfrom\u001b[39;00m \u001b[38;5;28;01mNone\u001b[39;00m\n",
      "File \u001b[0;32m/Library/Frameworks/Python.framework/Versions/3.10/lib/python3.10/site-packages/matplotlib/animation.py:240\u001b[0m, in \u001b[0;36mAbstractMovieWriter.saving\u001b[0;34m(self, fig, outfile, dpi, *args, **kwargs)\u001b[0m\n\u001b[1;32m    235\u001b[0m     _log\u001b[38;5;241m.\u001b[39minfo(\u001b[38;5;124m\"\u001b[39m\u001b[38;5;124mDisabling savefig.bbox = \u001b[39m\u001b[38;5;124m'\u001b[39m\u001b[38;5;124mtight\u001b[39m\u001b[38;5;124m'\u001b[39m\u001b[38;5;124m, as it may cause \u001b[39m\u001b[38;5;124m\"\u001b[39m\n\u001b[1;32m    236\u001b[0m               \u001b[38;5;124m\"\u001b[39m\u001b[38;5;124mframe size to vary, which is inappropriate for \u001b[39m\u001b[38;5;124m\"\u001b[39m\n\u001b[1;32m    237\u001b[0m               \u001b[38;5;124m\"\u001b[39m\u001b[38;5;124manimation.\u001b[39m\u001b[38;5;124m\"\u001b[39m)\n\u001b[1;32m    239\u001b[0m \u001b[38;5;66;03m# This particular sequence is what contextlib.contextmanager wants\u001b[39;00m\n\u001b[0;32m--> 240\u001b[0m \u001b[38;5;28;43mself\u001b[39;49m\u001b[38;5;241;43m.\u001b[39;49m\u001b[43msetup\u001b[49m\u001b[43m(\u001b[49m\u001b[43mfig\u001b[49m\u001b[43m,\u001b[49m\u001b[43m \u001b[49m\u001b[43moutfile\u001b[49m\u001b[43m,\u001b[49m\u001b[43m \u001b[49m\u001b[43mdpi\u001b[49m\u001b[43m,\u001b[49m\u001b[43m \u001b[49m\u001b[38;5;241;43m*\u001b[39;49m\u001b[43margs\u001b[49m\u001b[43m,\u001b[49m\u001b[43m \u001b[49m\u001b[38;5;241;43m*\u001b[39;49m\u001b[38;5;241;43m*\u001b[39;49m\u001b[43mkwargs\u001b[49m\u001b[43m)\u001b[49m\n\u001b[1;32m    241\u001b[0m \u001b[38;5;28;01mwith\u001b[39;00m mpl\u001b[38;5;241m.\u001b[39mrc_context({\u001b[38;5;124m'\u001b[39m\u001b[38;5;124msavefig.bbox\u001b[39m\u001b[38;5;124m'\u001b[39m: \u001b[38;5;28;01mNone\u001b[39;00m}):\n\u001b[1;32m    242\u001b[0m     \u001b[38;5;28;01mtry\u001b[39;00m:\n",
      "File \u001b[0;32m/Library/Frameworks/Python.framework/Versions/3.10/lib/python3.10/site-packages/matplotlib/animation.py:503\u001b[0m, in \u001b[0;36mPillowWriter.setup\u001b[0;34m(self, fig, outfile, dpi)\u001b[0m\n\u001b[1;32m    502\u001b[0m \u001b[38;5;28;01mdef\u001b[39;00m \u001b[38;5;21msetup\u001b[39m(\u001b[38;5;28mself\u001b[39m, fig, outfile, dpi\u001b[38;5;241m=\u001b[39m\u001b[38;5;28;01mNone\u001b[39;00m):\n\u001b[0;32m--> 503\u001b[0m     \u001b[38;5;28;43msuper\u001b[39;49m\u001b[43m(\u001b[49m\u001b[43m)\u001b[49m\u001b[38;5;241;43m.\u001b[39;49m\u001b[43msetup\u001b[49m\u001b[43m(\u001b[49m\u001b[43mfig\u001b[49m\u001b[43m,\u001b[49m\u001b[43m \u001b[49m\u001b[43moutfile\u001b[49m\u001b[43m,\u001b[49m\u001b[43m \u001b[49m\u001b[43mdpi\u001b[49m\u001b[38;5;241;43m=\u001b[39;49m\u001b[43mdpi\u001b[49m\u001b[43m)\u001b[49m\n\u001b[1;32m    504\u001b[0m     \u001b[38;5;28mself\u001b[39m\u001b[38;5;241m.\u001b[39m_frames \u001b[38;5;241m=\u001b[39m []\n",
      "File \u001b[0;32m/Library/Frameworks/Python.framework/Versions/3.10/lib/python3.10/site-packages/matplotlib/animation.py:195\u001b[0m, in \u001b[0;36mAbstractMovieWriter.setup\u001b[0;34m(self, fig, outfile, dpi)\u001b[0m\n\u001b[1;32m    181\u001b[0m \u001b[38;5;250m\u001b[39m\u001b[38;5;124;03m\"\"\"\u001b[39;00m\n\u001b[1;32m    182\u001b[0m \u001b[38;5;124;03mSetup for writing the movie file.\u001b[39;00m\n\u001b[1;32m    183\u001b[0m \n\u001b[0;32m   (...)\u001b[0m\n\u001b[1;32m    192\u001b[0m \u001b[38;5;124;03m    in pixels of the resulting movie file.\u001b[39;00m\n\u001b[1;32m    193\u001b[0m \u001b[38;5;124;03m\"\"\"\u001b[39;00m\n\u001b[1;32m    194\u001b[0m \u001b[38;5;66;03m# Check that path is valid\u001b[39;00m\n\u001b[0;32m--> 195\u001b[0m \u001b[43mPath\u001b[49m\u001b[43m(\u001b[49m\u001b[43moutfile\u001b[49m\u001b[43m)\u001b[49m\u001b[38;5;241;43m.\u001b[39;49m\u001b[43mparent\u001b[49m\u001b[38;5;241;43m.\u001b[39;49m\u001b[43mresolve\u001b[49m\u001b[43m(\u001b[49m\u001b[43mstrict\u001b[49m\u001b[38;5;241;43m=\u001b[39;49m\u001b[38;5;28;43;01mTrue\u001b[39;49;00m\u001b[43m)\u001b[49m\n\u001b[1;32m    196\u001b[0m \u001b[38;5;28mself\u001b[39m\u001b[38;5;241m.\u001b[39moutfile \u001b[38;5;241m=\u001b[39m outfile\n\u001b[1;32m    197\u001b[0m \u001b[38;5;28mself\u001b[39m\u001b[38;5;241m.\u001b[39mfig \u001b[38;5;241m=\u001b[39m fig\n",
      "File \u001b[0;32m/Library/Frameworks/Python.framework/Versions/3.10/lib/python3.10/pathlib.py:1075\u001b[0m, in \u001b[0;36mPath.resolve\u001b[0;34m(self, strict)\u001b[0m\n\u001b[1;32m   1072\u001b[0m         \u001b[38;5;28;01mraise\u001b[39;00m \u001b[38;5;167;01mRuntimeError\u001b[39;00m(\u001b[38;5;124m\"\u001b[39m\u001b[38;5;124mSymlink loop from \u001b[39m\u001b[38;5;132;01m%r\u001b[39;00m\u001b[38;5;124m\"\u001b[39m \u001b[38;5;241m%\u001b[39m e\u001b[38;5;241m.\u001b[39mfilename)\n\u001b[1;32m   1074\u001b[0m \u001b[38;5;28;01mtry\u001b[39;00m:\n\u001b[0;32m-> 1075\u001b[0m     s \u001b[38;5;241m=\u001b[39m \u001b[38;5;28;43mself\u001b[39;49m\u001b[38;5;241;43m.\u001b[39;49m\u001b[43m_accessor\u001b[49m\u001b[38;5;241;43m.\u001b[39;49m\u001b[43mrealpath\u001b[49m\u001b[43m(\u001b[49m\u001b[38;5;28;43mself\u001b[39;49m\u001b[43m,\u001b[49m\u001b[43m \u001b[49m\u001b[43mstrict\u001b[49m\u001b[38;5;241;43m=\u001b[39;49m\u001b[43mstrict\u001b[49m\u001b[43m)\u001b[49m\n\u001b[1;32m   1076\u001b[0m \u001b[38;5;28;01mexcept\u001b[39;00m \u001b[38;5;167;01mOSError\u001b[39;00m \u001b[38;5;28;01mas\u001b[39;00m e:\n\u001b[1;32m   1077\u001b[0m     check_eloop(e)\n",
      "File \u001b[0;32m/Library/Frameworks/Python.framework/Versions/3.10/lib/python3.10/posixpath.py:395\u001b[0m, in \u001b[0;36mrealpath\u001b[0;34m(filename, strict)\u001b[0m\n\u001b[1;32m    392\u001b[0m \u001b[38;5;250m    \u001b[39m\u001b[38;5;124;03m\"\"\"Return the canonical path of the specified filename, eliminating any\u001b[39;00m\n\u001b[1;32m    393\u001b[0m \u001b[38;5;124;03msymbolic links encountered in the path.\"\"\"\u001b[39;00m\n\u001b[1;32m    394\u001b[0m     filename \u001b[38;5;241m=\u001b[39m os\u001b[38;5;241m.\u001b[39mfspath(filename)\n\u001b[0;32m--> 395\u001b[0m     path, ok \u001b[38;5;241m=\u001b[39m \u001b[43m_joinrealpath\u001b[49m\u001b[43m(\u001b[49m\u001b[43mfilename\u001b[49m\u001b[43m[\u001b[49m\u001b[43m:\u001b[49m\u001b[38;5;241;43m0\u001b[39;49m\u001b[43m]\u001b[49m\u001b[43m,\u001b[49m\u001b[43m \u001b[49m\u001b[43mfilename\u001b[49m\u001b[43m,\u001b[49m\u001b[43m \u001b[49m\u001b[43mstrict\u001b[49m\u001b[43m,\u001b[49m\u001b[43m \u001b[49m\u001b[43m{\u001b[49m\u001b[43m}\u001b[49m\u001b[43m)\u001b[49m\n\u001b[1;32m    396\u001b[0m     \u001b[38;5;28;01mreturn\u001b[39;00m abspath(path)\n",
      "File \u001b[0;32m/Library/Frameworks/Python.framework/Versions/3.10/lib/python3.10/posixpath.py:430\u001b[0m, in \u001b[0;36m_joinrealpath\u001b[0;34m(path, rest, strict, seen)\u001b[0m\n\u001b[1;32m    428\u001b[0m newpath \u001b[38;5;241m=\u001b[39m join(path, name)\n\u001b[1;32m    429\u001b[0m \u001b[38;5;28;01mtry\u001b[39;00m:\n\u001b[0;32m--> 430\u001b[0m     st \u001b[38;5;241m=\u001b[39m \u001b[43mos\u001b[49m\u001b[38;5;241;43m.\u001b[39;49m\u001b[43mlstat\u001b[49m\u001b[43m(\u001b[49m\u001b[43mnewpath\u001b[49m\u001b[43m)\u001b[49m\n\u001b[1;32m    431\u001b[0m \u001b[38;5;28;01mexcept\u001b[39;00m \u001b[38;5;167;01mOSError\u001b[39;00m:\n\u001b[1;32m    432\u001b[0m     \u001b[38;5;28;01mif\u001b[39;00m strict:\n",
      "\u001b[0;31mFileNotFoundError\u001b[0m: [Errno 2] No such file or directory: '../..GIFs'"
     ]
    },
    {
     "data": {
      "image/png": "[encoded data removed]",
      "text/plain": [
       "<Figure size 640x480 with 1 Axes>"
      ]
     },
     "metadata": {},
     "output_type": "display_data"
    }
   ],
   "source": [
    "x = np.linspace(0, 1, samples)\n",
    "t = np.linspace(0, 1, samples)\n",
    "\n",
    "phi = [] \n",
    "time = []\n",
    "\n",
    "for t_ in t:\n",
    "    with torch.no_grad():\n",
    "        X = torch.stack([torch.from_numpy(x).float(), torch.ones(samples)*t_], axis=-1)\n",
    "        Y = mlp(X)\n",
    "    phi.append(Y.detach().numpy())\n",
    "    time.append(t_)\n",
    "\n",
    "def update(i):\n",
    "    ax.clear()\n",
    "    ax.plot(x, phi[i])\n",
    "    ax.set_xlabel('$x$')\n",
    "    ax.set_ylabel('$\\phi$')\n",
    "    ax.set_title(f'$t = {time[i]:.3f}$')\n",
    "    ax.grid(True)\n",
    "    return ax\n",
    "\n",
    "fig = plt.figure(dpi=100)\n",
    "ax = plt.subplot(1,1,1)\n",
    "anim = animation.FuncAnimation(fig, update, frames=len(phi), interval=200)\n",
    "anim.save('../..GIFs/Forward/advection.gif', dpi=300, writer=PillowWriter(fps=25))\n",
    "plt.close(fig)"
   ]
  },
  {
   "cell_type": "markdown",
   "id": "639d9884",
   "metadata": {},
   "source": [
    "[Animation](https://github.com/munozmfrancisco/PINNs/raw/main/GIFs/Forward/advection.gif)"
   ]
  }
 ],
 "metadata": {
  "kernelspec": {
   "display_name": "Python 3",
   "language": "python",
   "name": "python3"
  },
  "language_info": {
   "codemirror_mode": {
    "name": "ipython",
    "version": 3
   },
   "file_extension": ".py",
   "mimetype": "text/x-python",
   "name": "python",
   "nbconvert_exporter": "python",
   "pygments_lexer": "ipython3",
   "version": "3.10.1"
  }
 },
 "nbformat": 4,
 "nbformat_minor": 5
}
