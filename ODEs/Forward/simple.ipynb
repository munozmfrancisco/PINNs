{
 "cells": [
  {
   "cell_type": "markdown",
   "id": "3b6035aa",
   "metadata": {},
   "source": [
    "# Simple Ordinary Differential Equation \n",
    "\n",
    "We will solve a simple ode:\n",
    "\n",
    "$$\n",
    "\\frac{du}{dx} = 2x, \\qquad \\text{where} \\quad  x \\in [0,1],\n",
    "$$\n",
    "\n",
    "with the initial condition:\n",
    "\n",
    "$$\n",
    "u(0) = 1.\n",
    "$$\n",
    "\n",
    "The exact solution is:\n",
    "\n",
    "$$\n",
    "u(x) = 1 + x^2.\n",
    "$$"
   ]
  },
  {
   "cell_type": "markdown",
   "id": "88899da6",
   "metadata": {},
   "source": [
    "## Implementation and Training\n",
    "\n",
    "First, we import the Torch, NumPy, Matplotlib and DateTime libraries:"
   ]
  },
  {
   "cell_type": "code",
   "execution_count": 1,
   "id": "bc3e905c",
   "metadata": {},
   "outputs": [],
   "source": [
    "import torch\n",
    "import torch.nn as nn\n",
    "import numpy as np\n",
    "import matplotlib.pyplot as plt\n",
    "import datetime"
   ]
  },
  {
   "cell_type": "markdown",
   "id": "f73b278b",
   "metadata": {},
   "source": [
    "We define the exact solution function and plot it:"
   ]
  },
  {
   "cell_type": "code",
   "execution_count": 2,
   "id": "743e4218",
   "metadata": {},
   "outputs": [
    {
     "data": {
      "text/plain": [
       "Text(0, 0.5, '$u(x)$')"
      ]
     },
     "execution_count": 2,
     "metadata": {},
     "output_type": "execute_result"
    },
    {
     "data": {
      "image/png": "[encoded data removed]",
      "text/plain": [
       "<Figure size 640x480 with 1 Axes>"
      ]
     },
     "metadata": {},
     "output_type": "display_data"
    }
   ],
   "source": [
    "x = np.linspace(0, 1, 20)\n",
    "\n",
    "def f_an(x):\n",
    "    return 1 + x**2\n",
    "\n",
    "an_sol = f_an(x)\n",
    "\n",
    "plt.figure()\n",
    "plt.plot(x, an_sol, '-')\n",
    "plt.xlabel('$x$')\n",
    "plt.ylabel('$u(x)$')"
   ]
  },
  {
   "cell_type": "markdown",
   "id": "db07e82f",
   "metadata": {},
   "source": [
    "Now, we set the parameters of the neural network: it has a structure with 1 input ($x$) and 1 output ($u(x)$), 5000 maximum training steps, 2 hidden layers with 16 neurons each, 20 samples and a target minimum loss value of $10^{-5}$."
   ]
  },
  {
   "cell_type": "code",
   "execution_count": 3,
   "id": "68851715",
   "metadata": {},
   "outputs": [],
   "source": [
    "inputs = 1\n",
    "outputs = 1\n",
    "hn_1 = 16\n",
    "hn_2 = 16\n",
    "steps = 0\n",
    "max_steps = 5000\n",
    "loss = 10\n",
    "min_loss = 1e-5\n",
    "log_each = 500\n",
    "samples = 20\n",
    "loss_values = []"
   ]
  },
  {
   "cell_type": "markdown",
   "id": "33bdf482",
   "metadata": {},
   "source": [
    "The multilayer perceptron (MLP) structure is:"
   ]
  },
  {
   "cell_type": "code",
   "execution_count": 4,
   "id": "fdc9c4c6",
   "metadata": {},
   "outputs": [
    {
     "data": {
      "text/plain": [
       "Sequential(\n",
       "  (0): Linear(in_features=1, out_features=16, bias=True)\n",
       "  (1): Tanh()\n",
       "  (2): Linear(in_features=16, out_features=16, bias=True)\n",
       "  (3): Tanh()\n",
       "  (4): Linear(in_features=16, out_features=1, bias=True)\n",
       ")"
      ]
     },
     "execution_count": 4,
     "metadata": {},
     "output_type": "execute_result"
    }
   ],
   "source": [
    "mlp = nn.Sequential(\n",
    "    nn.Linear(inputs,hn_1),\n",
    "    nn.Tanh(),\n",
    "    nn.Linear(hn_1, hn_2),\n",
    "    nn.Tanh(),\n",
    "    nn.Linear(hn_2, outputs)\n",
    ")\n",
    "\n",
    "optimizer = torch.optim.Adam(mlp.parameters())\n",
    "criterion = nn.MSELoss()\n",
    "mlp.train()"
   ]
  },
  {
   "cell_type": "markdown",
   "id": "539edcb8",
   "metadata": {},
   "source": [
    "In this section, we define a function that calculates the gradients."
   ]
  },
  {
   "cell_type": "code",
   "execution_count": 5,
   "id": "a8846df5",
   "metadata": {},
   "outputs": [],
   "source": [
    "def computeGrads(y, x):\n",
    "    grads, = torch.autograd.grad(y, x, grad_outputs=y.data.new(y.shape).fill_(1), create_graph=True, only_inputs=True)\n",
    "    return grads"
   ]
  },
  {
   "cell_type": "markdown",
   "id": "83bbd643",
   "metadata": {},
   "source": [
    "Next, we define the main training loop and the timer:"
   ]
  },
  {
   "cell_type": "code",
   "execution_count": null,
   "id": "c21053fa",
   "metadata": {},
   "outputs": [
    {
     "name": "stdout",
     "output_type": "stream",
     "text": [
      "----Training Started----\n",
      "Step:0| ode_loss 0.84795 ic_loss 1.03741\n",
      "Step:500| ode_loss 0.00543 ic_loss 0.00000\n",
      "Step:1000| ode_loss 0.00207 ic_loss 0.00000\n",
      "Step:1500| ode_loss 0.00200 ic_loss 0.00000\n",
      "Step:2000| ode_loss 0.00122 ic_loss 0.00000\n",
      "Step:2500| ode_loss 0.00028 ic_loss 0.00000\n",
      "---Training Finished---\n",
      "Training Duration: 2925 steps in 3.336 seconds\n"
     ]
    }
   ],
   "source": [
    "starttime_train = datetime.datetime.now()\n",
    "print('----Training Started----')\n",
    "\n",
    "while steps < max_steps and loss > min_loss:\n",
    "    X = torch.rand((samples, 1), requires_grad=True)\n",
    "    Y = mlp(X)\n",
    "    dudx = computeGrads(Y, X)\n",
    "    ode_loss = criterion(dudx, 2 * X)\n",
    "\n",
    "    #initial condition\n",
    "    X0 = torch.zeros(samples, 1)\n",
    "    Y0 = mlp(X0)\n",
    "    u0 = torch.ones(samples, 1)\n",
    "    ic_loss = criterion(Y0, u0)\n",
    "\n",
    "    optimizer.zero_grad()\n",
    "    loss = ode_loss + ic_loss \n",
    "    loss.backward()\n",
    "    optimizer.step()\n",
    "\n",
    "    loss_values.append(loss.detach().numpy())\n",
    "\n",
    "    if steps % log_each == 0:\n",
    "        print(f'Step:{steps}| ode_loss {ode_loss.item():.5f} ic_loss {ic_loss.item():.5f}')\n",
    "\n",
    "    steps+=1\n",
    "\n",
    "endtime_train = datetime.datetime.now()\n",
    "train_time = endtime_train - starttime_train\n",
    "train_time_formatted = train_time.seconds + train_time.microseconds / 1e6\n",
    "print('---Training Finished---')\n",
    "\n",
    "print(f'Training Duration: {steps} steps in {train_time_formatted:.3f} seconds')"
   ]
  },
  {
   "cell_type": "markdown",
   "id": "21002d4f",
   "metadata": {},
   "source": [
    "## Visualization\n",
    "\n",
    "To visualize the model and compare results, we obtain the output of the trained model."
   ]
  },
  {
   "cell_type": "code",
   "execution_count": 7,
   "id": "b577078f",
   "metadata": {},
   "outputs": [],
   "source": [
    "with torch.no_grad():\n",
    "    X = torch.stack([torch.from_numpy(x).float()], axis=-1)\n",
    "    Y = mlp(X)\n",
    "\n",
    "result = Y.detach().numpy()"
   ]
  },
  {
   "cell_type": "markdown",
   "id": "73ed4a08",
   "metadata": {},
   "source": [
    "Finally, we plot the exact solution with the PINN approximation:"
   ]
  },
  {
   "cell_type": "code",
   "execution_count": 8,
   "id": "5ec858e5",
   "metadata": {},
   "outputs": [
    {
     "data": {
      "text/plain": [
       "<matplotlib.legend.Legend at 0x12bf1fb20>"
      ]
     },
     "execution_count": 8,
     "metadata": {},
     "output_type": "execute_result"
    },
    {
     "data": {
      "image/png": "[encoded data removed]",
      "text/plain": [
       "<Figure size 640x480 with 1 Axes>"
      ]
     },
     "metadata": {},
     "output_type": "display_data"
    }
   ],
   "source": [
    "plt.figure()\n",
    "plt.plot(x, an_sol, '-', label = 'Exact')\n",
    "plt.plot(x, result, '.:', label = 'PINN')\n",
    "plt.title('Exact Solution and PINN Approximation for $u(x)$')\n",
    "plt.xlabel('$x$')\n",
    "plt.legend()"
   ]
  }
 ],
 "metadata": {
  "kernelspec": {
   "display_name": "Python 3",
   "language": "python",
   "name": "python3"
  },
  "language_info": {
   "codemirror_mode": {
    "name": "ipython",
    "version": 3
   },
   "file_extension": ".py",
   "mimetype": "text/x-python",
   "name": "python",
   "nbconvert_exporter": "python",
   "pygments_lexer": "ipython3",
   "version": "3.10.1"
  }
 },
 "nbformat": 4,
 "nbformat_minor": 5
}
